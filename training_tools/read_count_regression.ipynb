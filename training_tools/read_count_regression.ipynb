{
 "cells": [
  {
   "cell_type": "raw",
   "metadata": {
    "deletable": true,
    "editable": true
   },
   "source": [
    "Make a dataset based on read counts"
   ]
  },
  {
   "cell_type": "code",
   "execution_count": 14,
   "metadata": {
    "collapsed": false,
    "deletable": true,
    "editable": true
   },
   "outputs": [],
   "source": [
    "import pandas as pd\n",
    "import matplotlib.pyplot as plt\n",
    "import numpy as np\n",
    "from tqdm import tqdm\n",
    "import ucscgenome\n",
    "\n",
    "genome = ucscgenome.Genome('/home/kal/.ucscgenome/hg19.2bit')"
   ]
  },
  {
   "cell_type": "code",
   "execution_count": null,
   "metadata": {
    "collapsed": true,
    "deletable": true,
    "editable": true
   },
   "outputs": [],
   "source": [
    "# bam files are in /mnt/DATA2/thouis/GM12878/     grep -l CTCF */*.json\n",
    "\n",
    "# get the regions to use\n",
    "encode_ctcf = pd.read_table('/home/kal/TF_models/data/encode_ctcf_clusteredpeaks.bed', header=None)\n",
    "encode_ctcf.columns = 'chr start end name score expCount expNums expScores'.split()\n",
    "\n",
    "shifted_db = pd.read_table('/home/kal/TF_models/data/count_regression/encode_ctcf_flankedpeaks.bed', header=None)\n",
    "shifted_db.columns = 'chr start end name score expCount expNums expScores'.split()\n",
    "\n",
    "shifted_db.name = [ n +'_shift' for n in shifted_db['name']]\n",
    "both = pd.concat([shifted_db, encode_ctcf])\n",
    "\n",
    "\n",
    "# write out the new data\n",
    "out_columns = 'chr start end name score'.split()\n",
    "both.to_csv('/home/kal/TF_models/data/count_regression/ctcf_regions.bed', \n",
    "            header=None, sep='\\t', index=False, columns=out_columns)"
   ]
  },
  {
   "cell_type": "code",
   "execution_count": 15,
   "metadata": {
    "collapsed": false,
    "deletable": true,
    "editable": true
   },
   "outputs": [
    {
     "name": "stderr",
     "output_type": "stream",
     "text": [
      "100%|██████████| 486627/486627 [01:03<00:00, 7719.15it/s]\n"
     ]
    }
   ],
   "source": [
    "# get the annotated scores\n",
    "\n",
    "anno = pd.read_table('/home/kal/TF_models/data/count_regression/ctcf_regions_annotated_9.bed', header=None)\n",
    "anno.columns = 'chr start end name score c1 c2 c3 c4 c5 c6 c7 c8 c9'.split()\n",
    "#annotate the genome\n",
    "half_window=256//2\n",
    "for index, row in tqdm(anno.iterrows(), total=len(anno)):\n",
    "    center = (row.start + row.end) // 2\n",
    "    anno.set_value(index, 'nucs', genome[row.chr][(center - half_window):(center + half_window)].lower())"
   ]
  },
  {
   "cell_type": "code",
   "execution_count": 16,
   "metadata": {
    "collapsed": false,
    "deletable": true,
    "editable": true
   },
   "outputs": [
    {
     "data": {
      "image/png": "[encoded data removed]",
      "text/plain": [
       "<matplotlib.figure.Figure at 0x7f52f5306908>"
      ]
     },
     "metadata": {},
     "output_type": "display_data"
    }
   ],
   "source": [
    "# get a sense of the distribution of read counts\n",
    "data=list()\n",
    "for i in range(1, 10):\n",
    "    data.append(sum(anno['c'+str(i)])/len(anno))\n",
    "plt.title('Average RC for various experiemtns')\n",
    "plt.xlabel('Average RC number')\n",
    "plt.ylabel('Number of experiemnts')\n",
    "plt.hist(data)\n",
    "plt.show()"
   ]
  },
  {
   "cell_type": "code",
   "execution_count": 17,
   "metadata": {
    "collapsed": false,
    "deletable": true,
    "editable": true
   },
   "outputs": [
    {
     "name": "stdout",
     "output_type": "stream",
     "text": [
      "4.428504789088974\n",
      "6.721682109706202\n",
      "7.136270696036184\n",
      "4.9293278013755915\n",
      "12.202327449977087\n",
      "3.05478323233195\n",
      "8.790430863885481\n",
      "15.983979516138644\n",
      "7.720124448499569\n"
     ]
    }
   ],
   "source": [
    "# score should be log(read count/ average rc in that experiment)\n",
    "for i in range(1, 10):\n",
    "    anno['nlog' + str(i)] = np.log(anno['c'+str(i)]/data[i-1] +1)    \n",
    "anno['read_count'] = (anno['nlog1'] + anno['nlog2'] + anno['nlog3'] + anno['nlog4'] + anno['nlog5'] + \n",
    "                      anno['nlog6'] + anno['nlog7'] + anno['nlog8'] + anno['nlog9'])/9"
   ]
  },
  {
   "cell_type": "code",
   "execution_count": 28,
   "metadata": {
    "collapsed": false,
    "deletable": true,
    "editable": true
   },
   "outputs": [],
   "source": [
    "# write out versions\n",
    "\n",
    "out_columns = 'chr start end name score read_count nucs'.split()\n",
    "anno.to_csv('/home/kal/TF_models/data/count_regression/ctcf_regions_annotated.bed', \n",
    "            header=None, sep='\\t', index=False, columns=out_columns)\n",
    "\n",
    "\n",
    "out_columns = 'chr start end name score nucs nlog1 nlog2 nlog3 nlog4 nlog5 nlog6 nlog7 nlog8 nlog9'.split()\n",
    "anno.to_csv('/home/kal/TF_models/data/count_regression/ctcf_regions_9_log.bed', \n",
    "            header=None, sep='\\t', index=False, columns=out_columns)\n",
    "\n",
    "out_columns = 'chr start end name score nucs c1 c2 c3 c4 c5 c6 c7 c8 c9'.split()\n",
    "anno.to_csv('/home/kal/TF_models/data/count_regression/ctcf_regions_9_seqs.bed', \n",
    "            header=None, sep='\\t', index=False, columns=out_columns)"
   ]
  },
  {
   "cell_type": "code",
   "execution_count": 27,
   "metadata": {
    "collapsed": false,
    "deletable": true,
    "editable": true
   },
   "outputs": [
    {
     "data": {
      "image/png": "[encoded data removed]",
      "text/plain": [
       "<matplotlib.figure.Figure at 0x7f52b3ace2b0>"
      ]
     },
     "metadata": {},
     "output_type": "display_data"
    },
    {
     "data": {
      "image/png": "[encoded data removed]",
      "text/plain": [
       "<matplotlib.figure.Figure at 0x7f52f52b7128>"
      ]
     },
     "metadata": {},
     "output_type": "display_data"
    }
   ],
   "source": [
    "# learn a little more about this dataset\n",
    "plt.hist(anno['c1'], alpha=0.5)\n",
    "plt.show()\n",
    "plt.hist(anno['nlog1'], alpha=0.5)\n",
    "plt.show()"
   ]
  },
  {
   "cell_type": "code",
   "execution_count": null,
   "metadata": {
    "collapsed": false,
    "deletable": true,
    "editable": true
   },
   "outputs": [],
   "source": []
  },
  {
   "cell_type": "code",
   "execution_count": null,
   "metadata": {
    "collapsed": true,
    "deletable": true,
    "editable": true
   },
   "outputs": [],
   "source": []
  }
 ],
 "metadata": {
  "kernelspec": {
   "display_name": "Python 3",
   "language": "python",
   "name": "python3"
  },
  "language_info": {
   "codemirror_mode": {
    "name": "ipython",
    "version": 3
   },
   "file_extension": ".py",
   "mimetype": "text/x-python",
   "name": "python",
   "nbconvert_exporter": "python",
   "pygments_lexer": "ipython3",
   "version": "3.5.2"
  }
 },
 "nbformat": 4,
 "nbformat_minor": 2
}
