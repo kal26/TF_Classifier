{
 "cells": [
  {
   "cell_type": "raw",
   "metadata": {
    "deletable": true,
    "editable": true
   },
   "source": [
    "Make a dataset based on read counts"
   ]
  },
  {
   "cell_type": "code",
   "execution_count": 1,
   "metadata": {
    "collapsed": true,
    "deletable": true,
    "editable": true
   },
   "outputs": [],
   "source": [
    "import pandas as pd\n",
    "import matplotlib.pyplot as plt\n",
    "import numpy as np"
   ]
  },
  {
   "cell_type": "code",
   "execution_count": null,
   "metadata": {
    "collapsed": true,
    "deletable": true,
    "editable": true
   },
   "outputs": [],
   "source": [
    "# bam files are in /mnt/DATA2/thouis/GM12878/     grep -l CTCF */*.json\n"
   ]
  },
  {
   "cell_type": "code",
   "execution_count": null,
   "metadata": {
    "collapsed": false,
    "deletable": true,
    "editable": true
   },
   "outputs": [],
   "source": [
    "encode_ctcf = pd.read_table('/home/kal/TF_models/data/encode_ctcf_clusteredpeaks.bed', header=None)\n",
    "encode_ctcf.columns = 'chr start end name score expCount expNums expScores'.split()"
   ]
  },
  {
   "cell_type": "code",
   "execution_count": null,
   "metadata": {
    "collapsed": false,
    "deletable": true,
    "editable": true
   },
   "outputs": [],
   "source": [
    "shifted_db = pd.read_table('/home/kal/TF_models/data/count_regression/encode_ctcf_flankedpeaks.bed', header=None)\n",
    "shifted_db.columns = 'chr start end name score expCount expNums expScores'.split()"
   ]
  },
  {
   "cell_type": "code",
   "execution_count": null,
   "metadata": {
    "collapsed": false,
    "deletable": true,
    "editable": true
   },
   "outputs": [],
   "source": [
    "shifted_db.name = [ n +'_shift' for n in shifted_db['name']]\n",
    "both = pd.concat([shifted_db, encode_ctcf])"
   ]
  },
  {
   "cell_type": "code",
   "execution_count": null,
   "metadata": {
    "collapsed": false,
    "deletable": true,
    "editable": true
   },
   "outputs": [],
   "source": [
    "print(len(both))\n",
    "print(len(shifted_db))\n",
    "print(len(encode_ctcf))"
   ]
  },
  {
   "cell_type": "code",
   "execution_count": null,
   "metadata": {
    "collapsed": true,
    "deletable": true,
    "editable": true
   },
   "outputs": [],
   "source": [
    "out_columns = 'chr start end name score'.split()\n",
    "both.to_csv('/home/kal/TF_models/data/count_regression/ctcf_regions.bed', header=None, sep='\\t', index=False, columns=out_columns)"
   ]
  },
  {
   "cell_type": "code",
   "execution_count": null,
   "metadata": {
    "collapsed": false,
    "deletable": true,
    "editable": true
   },
   "outputs": [],
   "source": [
    "print(both.head)"
   ]
  },
  {
   "cell_type": "code",
   "execution_count": 2,
   "metadata": {
    "collapsed": false,
    "deletable": true,
    "editable": true
   },
   "outputs": [
    {
     "name": "stdout",
     "output_type": "stream",
     "text": [
      "<bound method NDFrame.head of          chr     start       end        name  score  c1  c2  c3  c4   c5  c6  \\\n",
      "0       chr1     13854     14110  CTCF_shift    227   0   0   0   0    1   0   \n",
      "1       chr1     16110     16390        CTCF    227   0   0   0   3    6   0   \n",
      "2       chr1     18390     18646  CTCF_shift    227   0   0   0   0    0   0   \n",
      "3       chr1     88900     89156  CTCF_shift    223   0   0   0   0    0   0   \n",
      "4       chr1     91156     91580        CTCF    223   0   1  10   7   12   0   \n",
      "5       chr1     93580     93836  CTCF_shift    223   0   0   0   0    0   0   \n",
      "6       chr1    102603    102859  CTCF_shift    106   0   0   0   0    0   0   \n",
      "7       chr1    104859    105089        CTCF    106   0   0   0   0    2   0   \n",
      "8       chr1    107089    107345  CTCF_shift    106   0   0   0   0    0   0   \n",
      "9       chr1    136594    136850  CTCF_shift    166   0   0   0   0    0   0   \n",
      "10      chr1    138850    139274        CTCF    166   1   1   2   2    6   1   \n",
      "11      chr1    141274    141530  CTCF_shift    166   0   0   0   0    0   0   \n",
      "12      chr1    235294    235550  CTCF_shift    777   0   0   0   0    0   0   \n",
      "13      chr1    237550    237989        CTCF    777   0   0  55  33  101   0   \n",
      "14      chr1    239989    240245  CTCF_shift    777   0   0   0   0    0   0   \n",
      "15      chr1    519054    519310  CTCF_shift    410   0   0   0   0    0   0   \n",
      "16      chr1    521310    521756        CTCF    410   0   0  51  19   58   0   \n",
      "17      chr1    523756    524012  CTCF_shift    410   0   0   0   0    0   0   \n",
      "18      chr1    543723    543979  CTCF_shift    187   0   0   0   0    1   0   \n",
      "19      chr1    545979    546223        CTCF    187   0   0  25   8   15   0   \n",
      "20      chr1    548223    548479  CTCF_shift    187   0   0   0   1    1   0   \n",
      "21      chr1    662382    662638  CTCF_shift    121   0   0   0   0    0   0   \n",
      "22      chr1    664638    664834        CTCF    121   0   0   1   0    3   0   \n",
      "23      chr1    666834    667090  CTCF_shift    121   0   0   0   0    0   0   \n",
      "24      chr1    711756    712012  CTCF_shift   1000   0   0   0   0    1   0   \n",
      "25      chr1    714012    714675        CTCF   1000  10  14  38  19   70  12   \n",
      "26      chr1    716675    716931  CTCF_shift   1000   0   0   0   0    0   0   \n",
      "27      chr1    756486    756742  CTCF_shift    114   0   0   0   0    1   0   \n",
      "28      chr1    758742    758926        CTCF    114   0   0   0   0    2   0   \n",
      "29      chr1    760926    761182  CTCF_shift    114   0   3   0   0    0   0   \n",
      "...      ...       ...       ...         ...    ...  ..  ..  ..  ..  ...  ..   \n",
      "486597  chrY  23089334  23089590  CTCF_shift    242   0   0   0   0    0   0   \n",
      "486598  chrY  23091590  23091920        CTCF    242   0   0   0   0    0   0   \n",
      "486599  chrY  23093920  23094176  CTCF_shift    242   0   0   0   0    0   0   \n",
      "486600  chrY  23127863  23128119  CTCF_shift    199   0   0   0   0    0   0   \n",
      "486601  chrY  23130119  23130489        CTCF    199   0   0   0   0    0   0   \n",
      "486602  chrY  23132489  23132745  CTCF_shift    199   0   0   0   0    0   0   \n",
      "486603  chrY  23340684  23340940  CTCF_shift    621   0   0   0   0    0   0   \n",
      "486604  chrY  23342940  23343145        CTCF    621   0   0   0   0    0   0   \n",
      "486605  chrY  23345145  23345401  CTCF_shift    621   0   0   0   0    0   0   \n",
      "486606  chrY  23420003  23420259  CTCF_shift    275   0   0   0   0    0   0   \n",
      "486607  chrY  23422259  23422645        CTCF    275   0   0   0   0    0   0   \n",
      "486608  chrY  23424645  23424901  CTCF_shift    275   0   0   0   0    0   0   \n",
      "486609  chrY  23549652  23549908  CTCF_shift    209   0   0   0   0    0   0   \n",
      "486610  chrY  23551908  23552324        CTCF    209   0   0   0   0    0   0   \n",
      "486611  chrY  23554324  23554580  CTCF_shift    209   0   0   0   0    0   0   \n",
      "486612  chrY  23748887  23749143  CTCF_shift    513   0   0   0   0    0   0   \n",
      "486613  chrY  23751143  23751253        CTCF    513   0   0   0   0    0   0   \n",
      "486614  chrY  23753253  23753509  CTCF_shift    513   0   0   0   0    0   0   \n",
      "486615  chrY  23896502  23896758  CTCF_shift    225   0   0   0   0    0   0   \n",
      "486616  chrY  23898758  23899048        CTCF    225   0   0   0   0    0   0   \n",
      "486617  chrY  23901048  23901304  CTCF_shift    225   0   0   0   0    0   0   \n",
      "486618  chrY  28458983  28459239  CTCF_shift    434   0   0   0   0    0   0   \n",
      "486619  chrY  28461239  28461609        CTCF    434   0   0   0   0    0   0   \n",
      "486620  chrY  28463609  28463865  CTCF_shift    434   0   0   0   0    0   0   \n",
      "486621  chrY  28693187  28693443  CTCF_shift    191   0   0   0   0    0   0   \n",
      "486622  chrY  28695443  28695813        CTCF    191   0   0   0   0    0   0   \n",
      "486623  chrY  28697813  28698069  CTCF_shift    191   0   0   0   0    0   0   \n",
      "486624  chrY  28706904  28707160  CTCF_shift    313   0   0   0   0    0   0   \n",
      "486625  chrY  28709160  28709494        CTCF    313   0   0   0   0    0   0   \n",
      "486626  chrY  28711494  28711750  CTCF_shift    313   0   0   0   0    0   0   \n",
      "\n",
      "        c7  c8  c9  \n",
      "0        0   0   0  \n",
      "1        0   0   0  \n",
      "2        0   0   0  \n",
      "3        0   0   0  \n",
      "4        0   2   2  \n",
      "5        0   0   0  \n",
      "6        0   0   0  \n",
      "7        0   0   0  \n",
      "8        0   0   0  \n",
      "9        0   0   0  \n",
      "10       0   0   0  \n",
      "11       0   0   0  \n",
      "12       0   0   0  \n",
      "13       0   0   0  \n",
      "14       0   0   0  \n",
      "15       0   0   0  \n",
      "16       0   0   0  \n",
      "17       0   0   0  \n",
      "18       0   0   0  \n",
      "19       0   0   0  \n",
      "20       0   0   0  \n",
      "21       0   0   0  \n",
      "22       0   0   0  \n",
      "23       0   0   0  \n",
      "24       0   0   0  \n",
      "25      23  81  21  \n",
      "26       0   0   0  \n",
      "27       3   1   0  \n",
      "28       0   1   1  \n",
      "29       1   1   0  \n",
      "...     ..  ..  ..  \n",
      "486597   0   0   0  \n",
      "486598   0   0   0  \n",
      "486599   0   0   0  \n",
      "486600   0   0   0  \n",
      "486601   0   0   0  \n",
      "486602   0   0   0  \n",
      "486603   0   0   0  \n",
      "486604   0   0   0  \n",
      "486605   0   0   0  \n",
      "486606   0   0   0  \n",
      "486607   1   0   0  \n",
      "486608   0   0   0  \n",
      "486609   0   0   0  \n",
      "486610   0   0   0  \n",
      "486611   0   0   0  \n",
      "486612   0   0   0  \n",
      "486613   0   0   0  \n",
      "486614   0   0   0  \n",
      "486615   0   0   0  \n",
      "486616   0   0   0  \n",
      "486617   0   0   0  \n",
      "486618   0   0   0  \n",
      "486619   0   0   0  \n",
      "486620   0   0   0  \n",
      "486621   0   0   0  \n",
      "486622   0   0   0  \n",
      "486623   0   0   0  \n",
      "486624   0   0   0  \n",
      "486625   0   0   0  \n",
      "486626   0   0   0  \n",
      "\n",
      "[486627 rows x 14 columns]>\n"
     ]
    }
   ],
   "source": [
    "anno = pd.read_table('/home/kal/TF_models/data/count_regression/ctcf_regions_annotated_9.bed', header=None)\n",
    "anno.columns = 'chr start end name score c1 c2 c3 c4 c5 c6 c7 c8 c9'.split()\n",
    "print(anno.head)"
   ]
  },
  {
   "cell_type": "code",
   "execution_count": 3,
   "metadata": {
    "collapsed": false,
    "deletable": true,
    "editable": true
   },
   "outputs": [
    {
     "data": {
      "image/png": "[encoded data removed]",
      "text/plain": [
       "<matplotlib.figure.Figure at 0x7f1e68bbd8d0>"
      ]
     },
     "metadata": {},
     "output_type": "display_data"
    }
   ],
   "source": [
    "# get a sense of the distribution of read counts\n",
    "data=list()\n",
    "for i in range(1, 10):\n",
    "    data.append(sum(anno['c'+str(i)])/len(anno))\n",
    "plt.title('Average RC for various experiemtns')\n",
    "plt.xlabel('Average RC number')\n",
    "plt.ylabel('Number of experiemnts')\n",
    "plt.hist(data)\n",
    "plt.show()"
   ]
  },
  {
   "cell_type": "code",
   "execution_count": null,
   "metadata": {
    "collapsed": false,
    "deletable": true,
    "editable": true
   },
   "outputs": [],
   "source": [
    "# score should be log(read count/ average rc in that experiment)\n",
    "for i in range(1, 10):\n",
    "    anno['nlog' + str(i)] = anno['c'+str(i)]/data[i-1]\n",
    "    print(data[i-1])\n",
    "    \n",
    "anno['read_count'] = (anno['nlog1'] + anno['nlog2'] + anno['nlog3'] + anno['nlog4'] + anno['nlog5'] + anno['nlog6'] + anno['nlog7'] + anno['nlog8'] + anno['nlog9'])/9"
   ]
  },
  {
   "cell_type": "code",
   "execution_count": null,
   "metadata": {
    "collapsed": false,
    "deletable": true,
    "editable": true
   },
   "outputs": [],
   "source": [
    "out_columns = 'chr start end name score read_count'.split()\n",
    "anno.to_csv('/home/kal/TF_models/data/count_regression/ctcf_regions_annotated.bed', header=None, sep='\\t', index=False, columns=out_columns)"
   ]
  },
  {
   "cell_type": "code",
   "execution_count": null,
   "metadata": {
    "collapsed": false,
    "deletable": true,
    "editable": true
   },
   "outputs": [],
   "source": [
    "anno.read_count = [int(r+.5) for r in anno.read_count]"
   ]
  },
  {
   "cell_type": "code",
   "execution_count": null,
   "metadata": {
    "collapsed": false,
    "deletable": true,
    "editable": true
   },
   "outputs": [],
   "source": [
    "print(anno.read_count)"
   ]
  },
  {
   "cell_type": "code",
   "execution_count": null,
   "metadata": {
    "collapsed": true,
    "deletable": true,
    "editable": true
   },
   "outputs": [],
   "source": []
  }
 ],
 "metadata": {
  "kernelspec": {
   "display_name": "Python 3",
   "language": "python",
   "name": "python3"
  },
  "language_info": {
   "codemirror_mode": {
    "name": "ipython",
    "version": 3
   },
   "file_extension": ".py",
   "mimetype": "text/x-python",
   "name": "python",
   "nbconvert_exporter": "python",
   "pygments_lexer": "ipython3",
   "version": "3.5.2"
  }
 },
 "nbformat": 4,
 "nbformat_minor": 2
}
