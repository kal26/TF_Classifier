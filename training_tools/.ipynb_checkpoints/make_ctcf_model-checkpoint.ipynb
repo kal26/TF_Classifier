{
 "cells": [
  {
   "cell_type": "raw",
   "metadata": {
    "deletable": true,
    "editable": true
   },
   "source": [
    "Make a generator and train a model to predict CTCF binding strength. Then saves off the model for further analysis.\n",
    "Uses:\n",
    "    2-mer negative controls\n",
    "    regresion off scores / classification with keyword"
   ]
  },
  {
   "cell_type": "code",
   "execution_count": 1,
   "metadata": {
    "collapsed": false,
    "deletable": true,
    "editable": true
   },
   "outputs": [
    {
     "name": "stderr",
     "output_type": "stream",
     "text": [
      "Using TensorFlow backend.\n"
     ]
    },
    {
     "name": "stdout",
     "output_type": "stream",
     "text": [
      "Loading model without Bias layer\n"
     ]
    },
    {
     "name": "stderr",
     "output_type": "stream",
     "text": [
      "/home/kal/TF_models/bin/sequence.py:275: RuntimeWarning: divide by zero encountered in log\n",
      "  self.seq = helper.softmax(np.log(dist))\n"
     ]
    }
   ],
   "source": [
    "import os\n",
    "import sys\n",
    "sys.path.append('/home/kal/TF_models/bin/')\n",
    "os.environ['CUDA_VISIBLE_DEVICES'] = '2' # Must be before importing keras!\n",
    "import tf_memory_limit\n",
    "\n",
    "from keras import backend as K\n",
    "from keras.models import load_model, Model, Input\n",
    "from keras.layers import Input, Lambda, Conv1D\n",
    "\n",
    "import numpy as np\n",
    "import matplotlib.pylab as plt \n",
    "from sklearn.metrics import precision_recall_curve\n",
    "from scipy.integrate import trapz\n",
    "from tqdm import tqdm\n",
    "import ucscgenome\n",
    "import math\n",
    "import pandas as pd\n",
    "import time\n",
    "import importlib\n",
    "import pickle\n",
    "\n",
    "import sequence\n",
    "import train_TFmodel\n",
    "import eval_TFmodel\n",
    "import ctcfgen\n",
    "import seq_only_gen\n",
    "pwm = eval_TFmodel.TFmodel('/home/kal/TF_models/seq_only/seq_classifier/pwm_frozen/')"
   ]
  },
  {
   "cell_type": "code",
   "execution_count": 2,
   "metadata": {
    "collapsed": false,
    "deletable": true,
    "editable": true
   },
   "outputs": [],
   "source": [
    "# meta\n",
    "regression=False\n",
    "gen_path= '/home/kal/TF_models/seq_only/seq_regression/test_CTCF/CTCF_gen.hdf5' # give none if no generator yet\n",
    "if regression:\n",
    "    import train_seq_regression_convnet as train_convnet\n",
    "else:\n",
    "    import train_seq_classifier_convnet as train_convnet"
   ]
  },
  {
   "cell_type": "code",
   "execution_count": null,
   "metadata": {
    "collapsed": false,
    "deletable": true,
    "editable": true,
    "scrolled": true
   },
   "outputs": [
    {
     "name": "stdout",
     "output_type": "stream",
     "text": [
      "Training model\n",
      "Convolutions used: [[32, 3], [32, 32], [16, 3], [8, 3]] [neurons, filter]\n"
     ]
    }
   ],
   "source": [
    "if regression:\n",
    "    out_path = os.path.join('/home/kal/TF_models/seq_only/seq_regression/test_CTCF')\n",
    "else:\n",
    "    out_path = os.path.join('/home/kal/TF_models/seq_only/seq_classifier/test_CTCF')\n",
    "os.makedirs(out_path)\n",
    "if gen_path==None:\n",
    "    bed_path = '/home/kal/TF_models/data/encode_chipseq_peaks.bed'\n",
    "    gen_path = os.path.join(out_path, 'CTCF_gen.hdf5')\n",
    "    print('Makeing generator')\n",
    "    seq_only_gen.create_from_bed(bed_path, gen_path, scrambled=2)        \n",
    "print('Training model')\n",
    "train_convnet.make_model(out_path, '32.3_32.32_16.3_8.3', gen_path)\n",
    "ml_model = eval_TFmodel.TFmodel(out_path)"
   ]
  },
  {
   "cell_type": "code",
   "execution_count": null,
   "metadata": {
    "collapsed": false,
    "deletable": true,
    "editable": true
   },
   "outputs": [],
   "source": [
    "# get training loss stuff\n",
    "for file in os.listdir(os.path.join(out_path, 'history')):\n",
    "    file = os.path.join(os.path.join(out_path, 'history'), file)\n",
    "    # find the history pickles\n",
    "    if file.endswith('1.pk1'):\n",
    "        with open(file, 'rb') as infile:\n",
    "            h1 = pickle.load(infile)\n",
    "    elif file.endswith('2.pk1'):\n",
    "        with open(file, 'rb') as infile:\n",
    "            h2 = pickle.load(infile)\n",
    "    elif file.endswith('3.pk1'):\n",
    "        with open(file, 'rb') as infile:\n",
    "            h3 = pickle.load(infile)"
   ]
  },
  {
   "cell_type": "code",
   "execution_count": null,
   "metadata": {
    "collapsed": false,
    "deletable": true,
    "editable": true
   },
   "outputs": [],
   "source": [
    "# Summarize history for accuracy\n",
    "plt.plot(eval_TFmodel.group_stats('loss', h1, h2, h3))\n",
    "plt.plot(eval_TFmodel.group_stats('val_loss', h1, h2, h3))\n",
    "plt.title('Training and Validation Loss for CTCF model')\n",
    "plt.ylabel('Loss')\n",
    "plt.xlabel('Epoch')\n",
    "plt.legend(['train', 'test'], loc='upper left')\n",
    "plt.show()"
   ]
  },
  {
   "cell_type": "code",
   "execution_count": null,
   "metadata": {
    "collapsed": false,
    "deletable": true,
    "editable": true
   },
   "outputs": [],
   "source": [
    "# predict on all atac sequences from k562 and make a p-r and p-r gain curve\n",
    "npreds = dict()\n",
    "bed_path = '/home/kal/TF_models/data/K562_atac_peaks/final_atac.bed'\n",
    "peaks = pd.read_table(bed_path, header=None)\n",
    "peaks = peaks.sample(10000)\n",
    "peaks.columns = 'chr start end ctcf_label . . '.split()\n",
    "peaks = peaks[peaks['chr']!='chrM']\n",
    "print(len(peaks))\n",
    "pwm_preds = pwm.predict_bed(peaks)\n",
    "true_labels = peaks['ctcf_label']\n",
    "ml_preds = ml_model.predict_bed(peaks)"
   ]
  },
  {
   "cell_type": "code",
   "execution_count": null,
   "metadata": {
    "collapsed": false,
    "deletable": true,
    "editable": true
   },
   "outputs": [],
   "source": [
    "#p-r curve\n",
    "plt.figure(figsize=(8,6))\n",
    "plt.ylim([0.0, 1.05])\n",
    "plt.xlim([0.0, 1.0])\n",
    "plt.title('P-R Curve for CTCF Binding in K562 ATAC Regions')\n",
    "plt.xlabel('Recall')\n",
    "plt.ylabel('Precision')\n",
    "pwm_p, pwm_r, pwm_t = precision_recall_curve(peaks['ctcf_label'], pwm_preds, pos_label=1)\n",
    "plt.plot(pwm_r, pwm_p, label='PWM Model')\n",
    "p, r, t = precision_recall_curve(peaks['ctcf_label'], ml_preds, pos_label=1)\n",
    "plt.plot(r, p, label='ML Model')\n",
    "plt.legend()\n",
    "plt.show()\n",
    "print('AOC: ' + str(- trapz(p,r)))"
   ]
  },
  {
   "cell_type": "code",
   "execution_count": null,
   "metadata": {
    "collapsed": true,
    "deletable": true,
    "editable": true
   },
   "outputs": [],
   "source": []
  }
 ],
 "metadata": {
  "kernelspec": {
   "display_name": "Python 3",
   "language": "python",
   "name": "python3"
  },
  "language_info": {
   "codemirror_mode": {
    "name": "ipython",
    "version": 3
   },
   "file_extension": ".py",
   "mimetype": "text/x-python",
   "name": "python",
   "nbconvert_exporter": "python",
   "pygments_lexer": "ipython3",
   "version": "3.5.2"
  }
 },
 "nbformat": 4,
 "nbformat_minor": 2
}
