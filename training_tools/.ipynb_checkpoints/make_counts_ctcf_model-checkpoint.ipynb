{
 "cells": [
  {
   "cell_type": "raw",
   "metadata": {
    "deletable": true,
    "editable": true
   },
   "source": [
    "New TF model building and traing routine! \n",
    "Uses:\n",
    "    2mer negative controls\n",
    "    regresion off actual counts\n",
    "    better poisson counting\n",
    "    gradient lassoing thing"
   ]
  },
  {
   "cell_type": "code",
   "execution_count": 5,
   "metadata": {
    "collapsed": false,
    "deletable": true,
    "editable": true
   },
   "outputs": [
    {
     "name": "stdout",
     "output_type": "stream",
     "text": [
      "Loading model without Bias layer\n"
     ]
    }
   ],
   "source": [
    "import os\n",
    "import sys\n",
    "sys.path.append('/home/kal/TF_models/bin/')\n",
    "os.environ['CUDA_VISIBLE_DEVICES'] = '2' # Must be before importing keras!\n",
    "import tf_memory_limit\n",
    "\n",
    "from keras import backend as K\n",
    "\n",
    "import numpy as np\n",
    "import matplotlib.pylab as plt \n",
    "from sklearn.metrics import precision_recall_curve\n",
    "from scipy.integrate import trapz\n",
    "from tqdm import tqdm\n",
    "import ucscgenome\n",
    "import pandas as pd\n",
    "\n",
    "import sequence\n",
    "import train_TFmodel\n",
    "import eval_TFmodel\n",
    "import ctcfgen\n",
    "import seq_only_gen\n",
    "import train_seq_regression_convnet\n",
    "pwm = eval_TFmodel.TFmodel('/home/kal/TF_models/seq_only/seq_classifier/pwm_frozen/')"
   ]
  },
  {
   "cell_type": "code",
   "execution_count": 4,
   "metadata": {
    "collapsed": false,
    "scrolled": true
   },
   "outputs": [
    {
     "name": "stdout",
     "output_type": "stream",
     "text": [
      "Makeing generator\n",
      "Number of training examples: 154902\n",
      "Writing hdf5 File\n"
     ]
    },
    {
     "name": "stderr",
     "output_type": "stream",
     "text": [
      "\r",
      "          \r",
      "65421it [00:28, 2335.21it/s]"
     ]
    },
    {
     "name": "stdout",
     "output_type": "stream",
     "text": [
      "Finished positive training\n",
      "Finished positive testing\n",
      "Finished positive validation\n",
      "Finished negative training\n",
      "Finished negative testing\n",
      "Finished negative validation\n",
      "Wrote to file\n",
      "Training model\n"
     ]
    },
    {
     "ename": "NameError",
     "evalue": "name 'train_convnet' is not defined",
     "output_type": "error",
     "traceback": [
      "\u001b[0;31m---------------------------------------------------------------------------\u001b[0m",
      "\u001b[0;31mNameError\u001b[0m                                 Traceback (most recent call last)",
      "\u001b[0;32m<ipython-input-4-34958ed1cd3a>\u001b[0m in \u001b[0;36m<module>\u001b[0;34m()\u001b[0m\n\u001b[1;32m      6\u001b[0m \u001b[0mseq_only_gen\u001b[0m\u001b[0;34m.\u001b[0m\u001b[0mcreate_from_bed\u001b[0m\u001b[0;34m(\u001b[0m\u001b[0mbed_path\u001b[0m\u001b[0;34m,\u001b[0m \u001b[0mgen_path\u001b[0m\u001b[0;34m,\u001b[0m \u001b[0mscrambled\u001b[0m\u001b[0;34m=\u001b[0m\u001b[0;36m2\u001b[0m\u001b[0;34m,\u001b[0m \u001b[0mcolumns\u001b[0m\u001b[0;34m=\u001b[0m\u001b[0;34m'chr start end name score read_count'\u001b[0m\u001b[0;34m,\u001b[0m \u001b[0mshifts\u001b[0m\u001b[0;34m=\u001b[0m\u001b[0;32mFalse\u001b[0m\u001b[0;34m)\u001b[0m\u001b[0;34m\u001b[0m\u001b[0m\n\u001b[1;32m      7\u001b[0m \u001b[0mprint\u001b[0m\u001b[0;34m(\u001b[0m\u001b[0;34m'Training model'\u001b[0m\u001b[0;34m)\u001b[0m\u001b[0;34m\u001b[0m\u001b[0m\n\u001b[0;32m----> 8\u001b[0;31m \u001b[0mtrain_convnet\u001b[0m\u001b[0;34m.\u001b[0m\u001b[0mmake_model\u001b[0m\u001b[0;34m(\u001b[0m\u001b[0mout_path\u001b[0m\u001b[0;34m,\u001b[0m \u001b[0;34m'32.3_32.32_16.3_8.3'\u001b[0m\u001b[0;34m,\u001b[0m \u001b[0mgen_path\u001b[0m\u001b[0;34m,\u001b[0m \u001b[0mloss_func\u001b[0m\u001b[0;34m=\u001b[0m\u001b[0;34m'poisson'\u001b[0m\u001b[0;34m)\u001b[0m\u001b[0;34m\u001b[0m\u001b[0m\n\u001b[0m\u001b[1;32m      9\u001b[0m \u001b[0mml_model\u001b[0m \u001b[0;34m=\u001b[0m \u001b[0meval_TFmodel\u001b[0m\u001b[0;34m.\u001b[0m\u001b[0mTFmodel\u001b[0m\u001b[0;34m(\u001b[0m\u001b[0mout_path\u001b[0m\u001b[0;34m)\u001b[0m\u001b[0;34m\u001b[0m\u001b[0m\n",
      "\u001b[0;31mNameError\u001b[0m: name 'train_convnet' is not defined"
     ]
    }
   ],
   "source": [
    "out_path = os.path.join('/home/kal/TF_models/seq_only/count_regression/test_CTCF')\n",
    "os.makedirs(out_path)\n",
    "bed_path = '/home/kal/TF_models/data/count_regression/ctcf_regions_annotated.bed'\n",
    "gen_path = os.path.join(out_path, 'CTCF_counts_gen.hdf5')\n",
    "print('Makeing generator')\n",
    "seq_only_gen.create_from_bed(bed_path, gen_path, scrambled=2, columns='chr start end name score read_count', shifts=False)        "
   ]
  },
  {
   "cell_type": "code",
   "execution_count": null,
   "metadata": {
    "collapsed": false
   },
   "outputs": [
    {
     "name": "stdout",
     "output_type": "stream",
     "text": [
      "Training model\n",
      "Convolutions used: [[32, 3], [32, 32], [16, 3], [8, 3]] [neurons, filter]\n"
     ]
    }
   ],
   "source": [
    "print('Training model')\n",
    "train_seq_regression_convnet.make_model(out_path, '32.3_32.32_16.3_8.3', gen_path, loss_func='poisson')\n",
    "ml_model = eval_TFmodel.TFmodel(out_path)"
   ]
  },
  {
   "cell_type": "code",
   "execution_count": null,
   "metadata": {
    "collapsed": true
   },
   "outputs": [],
   "source": []
  }
 ],
 "metadata": {
  "kernelspec": {
   "display_name": "Python 3",
   "language": "python",
   "name": "python3"
  },
  "language_info": {
   "codemirror_mode": {
    "name": "ipython",
    "version": 3
   },
   "file_extension": ".py",
   "mimetype": "text/x-python",
   "name": "python",
   "nbconvert_exporter": "python",
   "pygments_lexer": "ipython3",
   "version": "3.5.2"
  }
 },
 "nbformat": 4,
 "nbformat_minor": 2
}
