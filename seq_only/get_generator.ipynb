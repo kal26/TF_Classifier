{
 "cells": [
  {
   "cell_type": "code",
   "execution_count": 1,
   "metadata": {
    "collapsed": false
   },
   "outputs": [
    {
     "name": "stderr",
     "output_type": "stream",
     "text": [
      "Using TensorFlow backend.\n",
      "/home/kal/TF_models/bin/sequence.py:275: RuntimeWarning: divide by zero encountered in log\n",
      "  self.seq = helper.softmax(np.log(dist))\n"
     ]
    }
   ],
   "source": [
    "import sys\n",
    "sys.path.append('/home/kal/TF_models/bin/')\n",
    "sys.path.append('/home/kal/TF_models/seq_only/bin/')\n",
    "import seq_only_gen"
   ]
  },
  {
   "cell_type": "code",
   "execution_count": 2,
   "metadata": {
    "collapsed": false
   },
   "outputs": [],
   "source": [
    "bed_path = '/home/kal/TF_models/data/encode_chipseq_peaks.bed'\n",
    "out_path = '/home/kal/TF_models/seq_only/ctcfgen.hdf5'"
   ]
  },
  {
   "cell_type": "code",
   "execution_count": null,
   "metadata": {
    "collapsed": false
   },
   "outputs": [],
   "source": [
    "seq_only_gen.create_from_bed(bed_path, out_path)"
   ]
  },
  {
   "cell_type": "code",
   "execution_count": 3,
   "metadata": {
    "collapsed": false
   },
   "outputs": [],
   "source": [
    "gen = seq_only_gen.CTCFGenerator(out_path)"
   ]
  },
  {
   "cell_type": "code",
   "execution_count": 4,
   "metadata": {
    "collapsed": false
   },
   "outputs": [],
   "source": [
    "seqs, labels = next(gen.pair_gen(strengths=True))"
   ]
  },
  {
   "cell_type": "code",
   "execution_count": 5,
   "metadata": {
    "collapsed": false
   },
   "outputs": [
    {
     "name": "stdout",
     "output_type": "stream",
     "text": [
      "[ 149.  449. 1000.  180.  204.  227. 1000. 1000.  226.  208.  244.  179.\n",
      "  337. 1000. 1000.  721.]\n"
     ]
    }
   ],
   "source": [
    "print(labels)"
   ]
  },
  {
   "cell_type": "code",
   "execution_count": 6,
   "metadata": {
    "collapsed": false
   },
   "outputs": [
    {
     "name": "stdout",
     "output_type": "stream",
     "text": [
      "[ 256  996  910  227  298  644  329  553 1000  222  104  537  189  143\n",
      "  233  647  514  327  142  520  148  480  250  151 1000  208 1000  197\n",
      "  686  894  156  164  357  344  143  745  300 1000  531  421  500  256\n",
      "  118 1000  825  159  193  187  247  415  158  597  366  265  216 1000\n",
      "  155  134  179  788  177  272  454  147  260 1000 1000  163 1000  234\n",
      "  231 1000  187 1000 1000  147 1000  204  135  438  132  175  213  136\n",
      "  569  398  424  142 1000 1000  165 1000  950  107  107  138  155  168\n",
      "  402]\n"
     ]
    }
   ],
   "source": [
    "print(gen.test_pos_str[1:100])"
   ]
  },
  {
   "cell_type": "code",
   "execution_count": null,
   "metadata": {
    "collapsed": true
   },
   "outputs": [],
   "source": []
  }
 ],
 "metadata": {
  "kernelspec": {
   "display_name": "Python 3",
   "language": "python",
   "name": "python3"
  },
  "language_info": {
   "codemirror_mode": {
    "name": "ipython",
    "version": 3
   },
   "file_extension": ".py",
   "mimetype": "text/x-python",
   "name": "python",
   "nbconvert_exporter": "python",
   "pygments_lexer": "ipython3",
   "version": "3.5.2"
  }
 },
 "nbformat": 4,
 "nbformat_minor": 2
}
