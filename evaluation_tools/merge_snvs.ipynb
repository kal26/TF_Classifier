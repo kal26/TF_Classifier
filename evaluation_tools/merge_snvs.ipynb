{
 "cells": [
  {
   "cell_type": "code",
   "execution_count": 2,
   "metadata": {
    "collapsed": false,
    "deletable": true,
    "editable": true
   },
   "outputs": [],
   "source": [
    "import pandas as pd\n",
    "from subprocess import call\n",
    "import os"
   ]
  },
  {
   "cell_type": "code",
   "execution_count": 4,
   "metadata": {
    "collapsed": false,
    "deletable": true,
    "editable": true
   },
   "outputs": [
    {
     "name": "stdout",
     "output_type": "stream",
     "text": [
      "73228\n",
      "147763\n",
      "184395\n",
      "268250\n",
      "294142\n",
      "447906\n",
      "524227\n",
      "544743\n",
      "578594\n",
      "640053\n",
      "673301\n",
      "699485\n",
      "764696\n",
      "870417\n",
      "907711\n",
      "971640\n",
      "1003204\n",
      "1068588\n",
      "1103367\n",
      "1165682\n",
      "1195250\n",
      "1229498\n",
      "1263213\n",
      "1333305\n",
      "1353603\n",
      "1424076\n",
      "1426449\n",
      "1488541\n",
      "1519023\n",
      "1588084\n",
      "1728422\n",
      "1792478\n",
      "1876416\n",
      "2294484\n"
     ]
    },
    {
     "data": {
      "text/plain": [
       "0"
      ]
     },
     "execution_count": 4,
     "metadata": {},
     "output_type": "execute_result"
    }
   ],
   "source": [
    "# concatenate all the bed files\n",
    "first = True\n",
    "for file in os.listdir('/home/thouis/CTCF_variants/allele_counts'):\n",
    "    temp = pd.read_table(os.path.join('/home/thouis/CTCF_variants/allele_counts', file))\n",
    "    if first:\n",
    "        snvs = temp\n",
    "        first = False\n",
    "    else:\n",
    "        snvs = snvs.append(temp)\n",
    "    print(len(snvs))"
   ]
  },
  {
   "cell_type": "code",
   "execution_count": 12,
   "metadata": {
    "collapsed": false,
    "deletable": true,
    "editable": true
   },
   "outputs": [],
   "source": [
    "# label \n",
    "snvs.columns = 'chr start variantID refAllele altAllele refCount altCount totalCount lowMAPQDepth lowBaseQDepth rawDepth otherBases improperPairs'.split()\n",
    "# add an 'end' column\n",
    "snvs['end'] = snvs.start + 1"
   ]
  },
  {
   "cell_type": "code",
   "execution_count": 20,
   "metadata": {
    "collapsed": false,
    "deletable": true,
    "editable": true
   },
   "outputs": [],
   "source": [
    "# write out one masive file\n",
    "header = ['chr', 'start', 'end', 'refAllele',  'altAllele',  'refCount',  'altCount']\n",
    "snvs.to_csv('/home/kal/TF_models/data/snvs/all_snvs.bed', sep='\\t', columns = header, header=None, index=False)"
   ]
  },
  {
   "cell_type": "code",
   "execution_count": 15,
   "metadata": {
    "collapsed": true,
    "deletable": true,
    "editable": true
   },
   "outputs": [],
   "source": [
    "# sort that file\n",
    "# sort -k1,1 -k2,2n in.bed > in.sorted.bed\n",
    "\n",
    "# merge the features\n",
    "# bedtools merge -d -1 -c 4,5,6,7 -o distinct,distinct,sum,sum -i all_snvs_sorted.bed > all_snvs_merged.bed"
   ]
  },
  {
   "cell_type": "code",
   "execution_count": 25,
   "metadata": {
    "collapsed": false,
    "deletable": true,
    "editable": true
   },
   "outputs": [
    {
     "name": "stdout",
     "output_type": "stream",
     "text": [
      "Initally: 2294483\n"
     ]
    }
   ],
   "source": [
    "# merege the features but better\n",
    "# ie only if > 5 reads on each and the snp is the same\n",
    "all_snps = pd.read_table('/home/kal/TF_models/data/snvs/all_snvs_sorted.bed')\n",
    "all_snps.columns = ['chr', 'start', 'end', 'refAllele',  'altAllele',  'refCount',  'altCount']\n",
    "print('Initally: ' + str(len(all_snps)))"
   ]
  },
  {
   "cell_type": "code",
   "execution_count": null,
   "metadata": {
    "collapsed": true
   },
   "outputs": [],
   "source": [
    "my_start = 0\n",
    "allele_to_n = {a:0, c:1, T=t:2, g:3}\n",
    "n_to_allele = [a, c, t, g]\n",
    "count = [0,0,0,0]\n",
    "def update_count(count, row):\n",
    "    #generate array from row\n",
    "    if row.refCount > 5 and int(row.)\n",
    "    count[allele_to_n[row.refAllele.lower()]] += str(row.refCount)\n",
    "    count[allele_to_n[row.altAllele.lower()]] += str(row.altCount)\n",
    "    \n",
    "    \n",
    "#cycle through\n",
    "for index, row in all_snps.iterrows():\n",
    "    # at same position?\n",
    "    if my_start == row.start:\n",
    "        update_count(count, row)\n",
    "    else:\n",
    "        my_start = row.start\n",
    "        count = [0, 0, 0, 0]\n",
    "        update_count(count, row)\n",
    "    my_snp = row.altAllele\n",
    "    "
   ]
  }
 ],
 "metadata": {
  "kernelspec": {
   "display_name": "Python 3",
   "language": "python",
   "name": "python3"
  },
  "language_info": {
   "codemirror_mode": {
    "name": "ipython",
    "version": 3
   },
   "file_extension": ".py",
   "mimetype": "text/x-python",
   "name": "python",
   "nbconvert_exporter": "python",
   "pygments_lexer": "ipython3",
   "version": "3.5.2"
  }
 },
 "nbformat": 4,
 "nbformat_minor": 2
}
