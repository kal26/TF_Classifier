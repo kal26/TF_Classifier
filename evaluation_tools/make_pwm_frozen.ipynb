{
 "cells": [
  {
   "cell_type": "code",
   "execution_count": 11,
   "metadata": {
    "collapsed": false
   },
   "outputs": [],
   "source": [
    "import os\n",
    "import sys\n",
    "sys.path.append('/home/kal/TF_models/bin/')\n",
    "os.environ['CUDA_VISIBLE_DEVICES'] = '1' # Must be before importing keras!\n",
    "import matplotlib; matplotlib.use('Agg')  # Must be before importing matplotlib.pyplot or pylab!\n",
    "import pylab\n",
    "import seaborn\n",
    "import tf_memory_limit\n",
    "import ctcfgen\n",
    "\n",
    "from keras.models import Model, Sequential\n",
    "from keras.callbacks import ModelCheckpoint, TensorBoard, Callback, LearningRateScheduler\n",
    "from keras.utils import plot_model\n",
    "from keras.layers import Input, Lambda, Dense, Conv1D, Activation\n",
    "from keras.optimizers import SGD, Adam\n",
    "import keras.backend as K\n",
    "from scipy.ndimage.interpolation import shift\n",
    "\n",
    "import numpy as np\n",
    "import math\n",
    "import time\n",
    "\n",
    "import tensorflow as tf"
   ]
  },
  {
   "cell_type": "code",
   "execution_count": 12,
   "metadata": {
    "collapsed": false
   },
   "outputs": [],
   "source": [
    "import sequence\n",
    "ctcf_weights = sequence.CTCF_memes[0].pwm\n",
    "ctcf_weights = np.expand_dims(ctcf_weights, axis=2)"
   ]
  },
  {
   "cell_type": "code",
   "execution_count": 13,
   "metadata": {
    "collapsed": false
   },
   "outputs": [],
   "source": [
    "input = Input(batch_shape=(32, 256, 4))\n",
    "add_RC_to_batch = Lambda(lambda x: K.concatenate([x, x[:, ::-1, ::-1]], axis=0), output_shape=lambda s: (2 * s[0], s[1], s[2]))\n",
    "# convolution for the ctcf motif\n",
    "pwm_conv = Conv1D(1, 20, padding='valid', input_shape=(256,4), weights=[ctcf_weights, np.asarray([0])])\n",
    "pwm_conv.trainable = False\n",
    "max_by_direction = Lambda(lambda x: K.maximum(K.max(x[:x.shape[0]//2, :, :], axis=1), K.max(x[x.shape[0]//2:, ::-1, :], axis=1)), name='stackmax', output_shape=lambda s: (s[0] // 2, 1))\n",
    "#linearize = Activation('tanh')\n",
    "predictions = max_by_direction(pwm_conv(add_RC_to_batch(input)))\n",
    "model = Model(inputs=[input], outputs=[predictions])"
   ]
  },
  {
   "cell_type": "code",
   "execution_count": 14,
   "metadata": {
    "collapsed": false
   },
   "outputs": [],
   "source": [
    "# compile the network\n",
    "optimizer = Adam(beta_1=0.95, lr=0.0005, epsilon=.1)\n",
    "model.compile(loss='binary_crossentropy', optimizer=optimizer, metrics=['accuracy'])"
   ]
  },
  {
   "cell_type": "code",
   "execution_count": 15,
   "metadata": {
    "collapsed": true
   },
   "outputs": [],
   "source": [
    "#save the network\n",
    "model.save('/home/kal/TF_models/seq_only/seq_classifier/pwm_frozen/final_model.hdf5')"
   ]
  },
  {
   "cell_type": "code",
   "execution_count": null,
   "metadata": {
    "collapsed": true
   },
   "outputs": [],
   "source": []
  },
  {
   "cell_type": "code",
   "execution_count": null,
   "metadata": {
    "collapsed": true
   },
   "outputs": [],
   "source": []
  }
 ],
 "metadata": {
  "kernelspec": {
   "display_name": "Python 3",
   "language": "python",
   "name": "python3"
  },
  "language_info": {
   "codemirror_mode": {
    "name": "ipython",
    "version": 3
   },
   "file_extension": ".py",
   "mimetype": "text/x-python",
   "name": "python",
   "nbconvert_exporter": "python",
   "pygments_lexer": "ipython3",
   "version": "3.5.2"
  }
 },
 "nbformat": 4,
 "nbformat_minor": 2
}
