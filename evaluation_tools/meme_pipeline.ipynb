{
 "cells": [
  {
   "cell_type": "code",
   "execution_count": 1,
   "metadata": {
    "collapsed": false
   },
   "outputs": [
    {
     "name": "stderr",
     "output_type": "stream",
     "text": [
      "Using TensorFlow backend.\n",
      "/home/kal/TF_models/bin/sequence.py:275: RuntimeWarning: divide by zero encountered in log\n",
      "  self.seq = helper.softmax(np.log(dist))\n"
     ]
    }
   ],
   "source": [
    "import sys\n",
    "sys.path.append('/home/kal/TF_models/bin/')\n",
    "import sequence"
   ]
  },
  {
   "cell_type": "code",
   "execution_count": null,
   "metadata": {
    "collapsed": true
   },
   "outputs": [],
   "source": [
    "# get a list of all the tf's I might use\n",
    "bed_path = '/home/kal/TF_models/data/encode_chipseq_peaks.bed'\n",
    "full = pd.read_table(bed_path, header=None)\n",
    "full.columns = 'chr start end name score expCount expNums expScores'.split()\n",
    "TFs = full.name.unique()\n",
    "print(TFs)"
   ]
  },
  {
   "cell_type": "code",
   "execution_count": 2,
   "metadata": {
    "collapsed": false
   },
   "outputs": [
    {
     "ename": "NameError",
     "evalue": "name 'TFs' is not defined",
     "output_type": "error",
     "traceback": [
      "\u001b[0;31m---------------------------------------------------------------------------\u001b[0m",
      "\u001b[0;31mNameError\u001b[0m                                 Traceback (most recent call last)",
      "\u001b[0;32m<ipython-input-2-60a4547b7a23>\u001b[0m in \u001b[0;36m<module>\u001b[0;34m()\u001b[0m\n\u001b[1;32m     16\u001b[0m                 \u001b[0mextend\u001b[0m \u001b[0;34m=\u001b[0m \u001b[0;32mFalse\u001b[0m\u001b[0;34m\u001b[0m\u001b[0m\n\u001b[1;32m     17\u001b[0m                 \u001b[0mmeme_lines\u001b[0m \u001b[0;34m=\u001b[0m \u001b[0mlist\u001b[0m\u001b[0;34m(\u001b[0m\u001b[0;34m)\u001b[0m\u001b[0;34m\u001b[0m\u001b[0m\n\u001b[0;32m---> 18\u001b[0;31m             \u001b[0;32mif\u001b[0m \u001b[0mline_TF\u001b[0m \u001b[0;32min\u001b[0m \u001b[0mTFs\u001b[0m\u001b[0;34m:\u001b[0m\u001b[0;34m\u001b[0m\u001b[0m\n\u001b[0m\u001b[1;32m     19\u001b[0m                 \u001b[0;31m# start a new meme\u001b[0m\u001b[0;34m\u001b[0m\u001b[0;34m\u001b[0m\u001b[0m\n\u001b[1;32m     20\u001b[0m                 \u001b[0mcurrent_TF\u001b[0m \u001b[0;34m=\u001b[0m \u001b[0mline_TF\u001b[0m\u001b[0;34m\u001b[0m\u001b[0m\n",
      "\u001b[0;31mNameError\u001b[0m: name 'TFs' is not defined"
     ]
    }
   ],
   "source": [
    "# get the meme data!\n",
    "current_TF = ''\n",
    "meme_path = '/home/kal/TF_models/data/memes/HOCOMOCOv11_core_HUMAN.meme'\n",
    "extend = False\n",
    "meme_lines = list()\n",
    "with open(meme_path, 'r') as infile:\n",
    "    for line in infile.readlines():\n",
    "        # find each new meme\n",
    "        if 'MOTIF' in line:\n",
    "            line_TF = line.split()[1].split('_')[0]\n",
    "            if line_TF != current_TF and len(meme_lines)>0:\n",
    "                # write out file\n",
    "                \n",
    "                with open(os.path.join('/home/kal/TF_models/data/memes/', current_TF + '.meme'), 'w+') as outfile:\n",
    "                    outfile.writelines(meme_lines)\n",
    "                extend = False\n",
    "                meme_lines = list()\n",
    "            if line_TF in TFs:\n",
    "                # start a new meme\n",
    "                current_TF = line_TF\n",
    "                extend = True\n",
    "        if extend:\n",
    "            meme_lines.append(line)"
   ]
  },
  {
   "cell_type": "code",
   "execution_count": null,
   "metadata": {
    "collapsed": true
   },
   "outputs": [],
   "source": []
  }
 ],
 "metadata": {
  "kernelspec": {
   "display_name": "Python 3",
   "language": "python",
   "name": "python3"
  },
  "language_info": {
   "codemirror_mode": {
    "name": "ipython",
    "version": 3
   },
   "file_extension": ".py",
   "mimetype": "text/x-python",
   "name": "python",
   "nbconvert_exporter": "python",
   "pygments_lexer": "ipython3",
   "version": "3.5.2"
  }
 },
 "nbformat": 4,
 "nbformat_minor": 2
}
