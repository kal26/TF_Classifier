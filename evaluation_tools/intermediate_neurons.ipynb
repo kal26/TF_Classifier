{
 "cells": [
  {
   "cell_type": "code",
   "execution_count": null,
   "metadata": {
    "collapsed": false
   },
   "outputs": [],
   "source": [
    "import sys\n",
    "sys.path.append('/home/kal/TF_models/bin/')\n",
    "import numpy as np\n",
    "import matplotlib.pyplot as plt\n",
    "import eval_TFmodel\n",
    "import sequence\n",
    "import train_TFmodel\n",
    "import viz_sequence\n",
    "import helper\n",
    "import seq_only_gen\n",
    "from keras import backend as K"
   ]
  },
  {
   "cell_type": "code",
   "execution_count": null,
   "metadata": {
    "collapsed": false
   },
   "outputs": [],
   "source": [
    "# get the generator\n",
    "gen = seq_only_gen.CTCFGenerator('/home/kal/TF_models/seq_only/ctcfgen.hdf5')\n",
    "g = gen.pos_gen()\n",
    "#load a model\n",
    "reg = eval_TFmodel.TFmodel('/home/kal/TF_models/seq_only/seq_regression/20170920_regression_model/')\n",
    "sig = eval_TFmodel.TFmodel('/home/kal/TF_models/seq_only/seq_classifier/20170919_sigmoid_model/')\n",
    "rev = eval_TFmodel.TFmodel('/home/kal/TF_models/seq_only/seq_classifier/20180124_162919_convnet/')\n",
    "pwm = eval_TFmodel.TFmodel('/home/kal/TF_models/seq_only/seq_classifier/pwm_model/')\n",
    "# load a sequence\n",
    "seq = sequence.Sequence(next(g)[0])\n",
    "print(reg.model.predict(train_TFmodel.blank_batch(seq.seq))[0][0])\n",
    "print(reg.layer_dict.keys())"
   ]
  },
  {
   "cell_type": "code",
   "execution_count": null,
   "metadata": {
    "collapsed": false
   },
   "outputs": [],
   "source": [
    "temp = .1\n",
    "print(pwm.layer_dict['conv1d_1'].get_weights()[0].shape)\n",
    "kernel = sequence.Sequence(pwm.layer_dict['conv1d_1'].get_weights()[0].reshape((-1, 4)))\n",
    "kernel.logo()\n",
    "viz_sequence.plot_icweights(helper.softmax(kernel.seq/temp*np.amax(kernel.seq)))"
   ]
  },
  {
   "cell_type": "code",
   "execution_count": null,
   "metadata": {
    "collapsed": false
   },
   "outputs": [],
   "source": [
    "# plot weights from first layer neurons\n",
    "temp = .005\n",
    "weight_array = rev.layer_dict['conv1d_1'].get_weights()[0]\n",
    "for idx in range(weight_array.shape[2]):\n",
    "    weight = weight_array[:,:,idx]\n",
    "    kernel = sequence.Sequence(weight)\n",
    "    viz_sequence.plot_icweights(helper.softmax(kernel.seq/temp*np.amax(kernel.seq)))"
   ]
  },
  {
   "cell_type": "code",
   "execution_count": 45,
   "metadata": {
    "collapsed": false
   },
   "outputs": [
    {
     "name": "stderr",
     "output_type": "stream",
     "text": [
      "/home/kal/TF_models/bin/sequence.py:243: RuntimeWarning: divide by zero encountered in log\n",
      "  self.seq = helper.softmax(np.log(distribution))\n"
     ]
    }
   ],
   "source": [
    "#get a general dream\n",
    "#dream = reg.gumbel_dream(seq, 'standard')\n",
    "# or get a mystery motif?!?!\n",
    "meme = sequence.CTCF_memes[0].seq\n",
    "dream = sequence.SeqDist(train_TFmodel.random_seq().seq)\n",
    "dream.seq[100:100+meme.shape[0]] = meme\n",
    "meme = sequence.mystery_memes[0].seq\n",
    "dream.seq[115:115+meme.shape[0]] = meme"
   ]
  },
  {
   "cell_type": "code",
   "execution_count": 46,
   "metadata": {
    "collapsed": false
   },
   "outputs": [
    {
     "data": {
      "image/png": "[encoded data removed]",
      "text/plain": [
       "<matplotlib.figure.Figure at 0x7f41c263cc18>"
      ]
     },
     "metadata": {},
     "output_type": "display_data"
    }
   ],
   "source": [
    "layer_name = 'conv1d_4'\n",
    "\n",
    "# get the activation for that dream\n",
    "in_seqs = reg.model.input\n",
    "layer_act = K.function([in_seqs, K.learning_phase()], [reg.layer_dict[layer_name].output])\n",
    "activations = layer_act([train_TFmodel.blank_batch(dream.discrete_seq()), 0])[0][0]\n",
    "plt.figure(figsize=(8,6))\n",
    "plt.xlabel('Neuron Acitvaiton Level')\n",
    "plt.ylabel('Nucleotide Location')\n",
    "plt.title('Nuron Activations for Layer ' + layer_name)\n",
    "plt.imshow(activations, aspect='auto', cmap='plasma')\n",
    "plt.show()"
   ]
  },
  {
   "cell_type": "code",
   "execution_count": null,
   "metadata": {
    "collapsed": true
   },
   "outputs": [],
   "source": [
    "\n",
    "for i in range(8):\n",
    "    dream = reg.gumbel_dream(seq, 'standard', viz=False, layer_name='conv1d_4', filter_index=i)\n",
    "    reg.get_importance(dream, viz=True)"
   ]
  }
 ],
 "metadata": {
  "kernelspec": {
   "display_name": "Python 3",
   "language": "python",
   "name": "python3"
  },
  "language_info": {
   "codemirror_mode": {
    "name": "ipython",
    "version": 3
   },
   "file_extension": ".py",
   "mimetype": "text/x-python",
   "name": "python",
   "nbconvert_exporter": "python",
   "pygments_lexer": "ipython3",
   "version": "3.5.2"
  }
 },
 "nbformat": 4,
 "nbformat_minor": 2
}
