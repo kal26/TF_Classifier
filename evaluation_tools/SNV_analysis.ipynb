{
 "cells": [
  {
   "cell_type": "code",
   "execution_count": 1,
   "metadata": {
    "collapsed": false,
    "deletable": true,
    "editable": true
   },
   "outputs": [
    {
     "name": "stderr",
     "output_type": "stream",
     "text": [
      "Using TensorFlow backend.\n",
      "/home/kal/TF_models/bin/sequence.py:275: RuntimeWarning: divide by zero encountered in log\n",
      "  self.seq = helper.softmax(np.log(dist))\n"
     ]
    }
   ],
   "source": [
    "import os\n",
    "import sys\n",
    "sys.path.append('/home/kal/TF_models/bin/')\n",
    "os.environ['CUDA_VISIBLE_DEVICES'] = '1' # Must be before importing keras!\n",
    "\n",
    "import sequence\n",
    "import train_TFmodel\n",
    "import eval_TFmodel\n",
    "import seq_only_gen\n",
    "\n",
    "import ucscgenome\n",
    "import numpy as np\n",
    "import pandas as pd\n",
    "import matplotlib.pylab as plt "
   ]
  },
  {
   "cell_type": "code",
   "execution_count": 2,
   "metadata": {
    "collapsed": true,
    "deletable": true,
    "editable": true
   },
   "outputs": [],
   "source": [
    "# get the generator\n",
    "gen = seq_only_gen.TFGenerator('/home/kal/TF_models/seq_only/ctcfgen.hdf5')\n",
    "g = gen.pair_gen(mode='val')"
   ]
  },
  {
   "cell_type": "code",
   "execution_count": 4,
   "metadata": {
    "collapsed": false,
    "deletable": true,
    "editable": true
   },
   "outputs": [
    {
     "name": "stdout",
     "output_type": "stream",
     "text": [
      "Loading model without Bias layer\n"
     ]
    }
   ],
   "source": [
    "# get the model\n",
    "ml = eval_TFmodel.TFmodel('/home/kal/TF_models/seq_only/seq_classifier/20170919_sigmoid_model/')\n",
    "pwm = eval_TFmodel.TFmodel('/home/kal/TF_models/seq_only/seq_classifier/pwm_frozen/')"
   ]
  },
  {
   "cell_type": "code",
   "execution_count": 5,
   "metadata": {
    "collapsed": true,
    "deletable": true,
    "editable": true
   },
   "outputs": [],
   "source": [
    "# get the genome\n",
    "genome = ucscgenome.Genome('/home/kal/.ucscgenome/hg19.2bit')"
   ]
  },
  {
   "cell_type": "code",
   "execution_count": 6,
   "metadata": {
    "collapsed": false
   },
   "outputs": [
    {
     "ename": "AttributeError",
     "evalue": "'TFmodel' object has no attribute 'predict_snv'",
     "output_type": "error",
     "traceback": [
      "\u001b[0;31m---------------------------------------------------------------------------\u001b[0m",
      "\u001b[0;31mAttributeError\u001b[0m                            Traceback (most recent call last)",
      "\u001b[0;32m<ipython-input-6-2a20d505ac3b>\u001b[0m in \u001b[0;36m<module>\u001b[0;34m()\u001b[0m\n\u001b[1;32m      8\u001b[0m \u001b[0;34m\u001b[0m\u001b[0m\n\u001b[1;32m      9\u001b[0m \u001b[0;31m# get predicitons\u001b[0m\u001b[0;34m\u001b[0m\u001b[0;34m\u001b[0m\u001b[0m\n\u001b[0;32m---> 10\u001b[0;31m \u001b[0mall_refpreds\u001b[0m\u001b[0;34m,\u001b[0m \u001b[0mall_altpreds\u001b[0m \u001b[0;34m=\u001b[0m \u001b[0mml\u001b[0m\u001b[0;34m.\u001b[0m\u001b[0mpredict_snv\u001b[0m\u001b[0;34m(\u001b[0m\u001b[0msnvs\u001b[0m\u001b[0;34m,\u001b[0m \u001b[0mgenome\u001b[0m\u001b[0;34m)\u001b[0m\u001b[0;34m\u001b[0m\u001b[0m\n\u001b[0m\u001b[1;32m     11\u001b[0m \u001b[0mall_prefpreds\u001b[0m\u001b[0;34m,\u001b[0m \u001b[0mall_paltpreds\u001b[0m \u001b[0;34m=\u001b[0m \u001b[0mpwm\u001b[0m\u001b[0;34m.\u001b[0m\u001b[0mpredict_snv\u001b[0m\u001b[0;34m(\u001b[0m\u001b[0msnvs\u001b[0m\u001b[0;34m,\u001b[0m \u001b[0mgenome\u001b[0m\u001b[0;34m)\u001b[0m\u001b[0;34m\u001b[0m\u001b[0m\n",
      "\u001b[0;31mAttributeError\u001b[0m: 'TFmodel' object has no attribute 'predict_snv'"
     ]
    }
   ],
   "source": [
    "# get the well filtered/merged snvs\n",
    "# annotate the thouis dataset\n",
    "thouis_path = '/home/kal/TF_models/data/SNVs/thouis_snvs/snvs_10filtered_merge.bed'\n",
    "snvs = pd.read_table(thouis_path)\n",
    "snvs.columns = 'chr start end refAllele altAllele refCount altCount'.split()\n",
    "# beacuse of 0 index, 1-index differnces\n",
    "snvs['position'] = snvs.start - 1\n",
    "\n",
    "# get predicitons\n",
    "all_refpreds, all_altpreds = ml.predict_snv(snvs, genome)\n",
    "all_prefpreds, all_paltpreds = pwm.predict_snv(snvs, genome)"
   ]
  },
  {
   "cell_type": "code",
   "execution_count": null,
   "metadata": {
    "collapsed": false
   },
   "outputs": [],
   "source": [
    "# get differences\n",
    "\n",
    "allelic_ratio = [alt/(alt+ref) for alt, ref in zip(snvs.altCount, snvs.refCount)]\n",
    "diffs = all_altpreds - all_refpreds\n",
    "pdiffs = all_paltpreds - all_prefpreds\n",
    "ratios = [alt/(ref+alt) for ref, alt in zip(all_refpreds, all_altpreds)]\n",
    "pratios = [alt/(ref+alt) for ref, alt in zip(all_prefpreds, all_paltpreds)]"
   ]
  },
  {
   "cell_type": "code",
   "execution_count": null,
   "metadata": {
    "collapsed": false,
    "scrolled": false
   },
   "outputs": [],
   "source": [
    "plt.hexbin(allelic_ratio, pratios, gridsize=50, bins='log', cmap='plasma', extent=(-.01, 1.01,-.01, 1.01))\n",
    "plt.title('Single Nucleotide Varients in CTCF')\n",
    "plt.xlabel('Ratio Alternate/Total Reads')\n",
    "plt.ylabel('Difference in Postion Weight Matrix Score')\n",
    "plt.show()\n",
    "\n",
    "plt.hexbin(allelic_ratio, ratios, gridsize=50, bins='log', cmap='plasma', extent=(-.01, 1.01, -.01, 1.01))\n",
    "plt.title('Single Nucleotide Varients in CTCF')\n",
    "plt.xlabel('Ratio Alternate/Total Reads')\n",
    "plt.ylabel('Difference in Deep Learning Model Score')\n",
    "plt.show()\n",
    "\n",
    "plt.hexbin(pdiffs, diffs, gridsize=50, bins='log', cmap='plasma', extent=(-1000, 1000, -1000, 1000))\n",
    "plt.title('Single Nucleotide Varients in CTCF')\n",
    "plt.xlabel('Difference in Postion Weight Matrix Score')\n",
    "plt.ylabel('Difference in Deep Learning Model Score')\n",
    "plt.show()"
   ]
  },
  {
   "cell_type": "code",
   "execution_count": null,
   "metadata": {
    "collapsed": false
   },
   "outputs": [],
   "source": [
    "# get only strong pwm signals\n",
    "strong_filter = [((pref > 1700) or (palt > 1700)) for pref, palt in zip(all_prefpreds, all_paltpreds)]\n",
    "refpreds = all_refpreds[strong_filter]\n",
    "altpreds = all_altpreds[strong_filter]\n",
    "prefpreds = all_prefpreds[strong_filter]\n",
    "paltpreds = all_paltpreds[strong_filter]\n",
    "\n",
    "# get differences\n",
    "allelic_ratio = [alt/(alt+ref) for alt, ref in zip(snvs.altCount[strong_filter], snvs.refCount[strong_filter])]\n",
    "diffs = altpreds - refpreds\n",
    "pdiffs = paltpreds - prefpreds\n",
    "ratios = [alt/(ref+alt) for ref, alt in zip(refpreds, altpreds)]\n",
    "pratios = [alt/(ref+alt) for ref, alt in zip(prefpreds, paltpreds)]\n",
    "\n",
    "plt.hexbin(allelic_ratio, pratios, gridsize=50, bins='log', cmap='plasma', extent=(-.01, 1.01, .2, .8))\n",
    "plt.title('Single Nucleotide Varients in CTCF')\n",
    "plt.xlabel('Ratio Alternate/Total Reads')\n",
    "plt.ylabel('Difference in Postion Weight Matrix Score')\n",
    "plt.show()\n",
    "\n",
    "plt.hexbin(allelic_ratio, ratios, gridsize=50, bins='log', cmap='plasma', extent=(-.01, 1.01, .2, .8))\n",
    "plt.title('Single Nucleotide Varients in CTCF')\n",
    "plt.xlabel('Ratio Alternate/Total Reads')\n",
    "plt.ylabel('Difference in Deep Learning Model Score')\n",
    "plt.show()\n",
    "\n",
    "plt.hexbin(pdiffs, diffs, gridsize=50, bins='log', cmap='plasma', extent=(-1000, 1000, -1000, 1000))\n",
    "plt.title('Single Nucleotide Varients in CTCF')\n",
    "plt.xlabel('Difference in Postion Weight Matrix Score')\n",
    "plt.ylabel('Difference in Deep Learning Model Score')\n",
    "plt.show()"
   ]
  },
  {
   "cell_type": "code",
   "execution_count": null,
   "metadata": {
    "collapsed": false
   },
   "outputs": [],
   "source": [
    "# get only strong machine learning signals\n",
    "strong_filter = [((ref > 900) or (alt > 900)) for ref, alt in zip(all_refpreds, all_altpreds)]\n",
    "refpreds = all_refpreds[strong_filter]\n",
    "altpreds = all_altpreds[strong_filter]\n",
    "prefpreds = all_prefpreds[strong_filter]\n",
    "paltpreds = all_paltpreds[strong_filter]\n",
    "\n",
    "# get differences\n",
    "allelic_ratio = [alt/(alt+ref) for alt, ref in zip(snvs.altCount[strong_filter], snvs.refCount[strong_filter])]\n",
    "diffs = altpreds - refpreds\n",
    "pdiffs = paltpreds - prefpreds\n",
    "ratios = [alt/(ref+alt) for ref, alt in zip(refpreds, altpreds)]\n",
    "pratios = [alt/(ref+alt) for ref, alt in zip(prefpreds, paltpreds)]\n",
    "\n",
    "plt.hexbin(allelic_ratio, pratios, gridsize=50, bins='log', cmap='plasma', extent=(-.01, 1.01, .2, .8))\n",
    "plt.title('Single Nucleotide Varients in CTCF')\n",
    "plt.xlabel('Ratio Alternate/Total Reads')\n",
    "plt.ylabel('Difference in Postion Weight Matrix Score')\n",
    "plt.show()\n",
    "\n",
    "plt.hexbin(allelic_ratio, ratios, gridsize=50, bins='log', cmap='plasma', extent=(-.01, 1.01, .2, .8))\n",
    "plt.title('Single Nucleotide Varients in CTCF')\n",
    "plt.xlabel('Ratio Alternate/Total Reads')\n",
    "plt.ylabel('Difference in Deep Learning Model Score')\n",
    "plt.show()\n",
    "\n",
    "plt.hexbin(pdiffs, diffs, gridsize=50, bins='log', cmap='plasma', extent=(-1000, 1000, -1000, 1000))\n",
    "plt.title('Single Nucleotide Varients in CTCF')\n",
    "plt.xlabel('Difference in Postion Weight Matrix Score')\n",
    "plt.ylabel('Difference in Deep Learning Model Score')\n",
    "plt.show()"
   ]
  },
  {
   "cell_type": "code",
   "execution_count": null,
   "metadata": {
    "collapsed": false,
    "deletable": true,
    "editable": true
   },
   "outputs": [],
   "source": [
    "# get the snvs from the 1000 genomes set\n",
    "genomes_path = '/home/kal/TF_models/data/SNVs/1000genomes_SNVs/1000genomes_all_SNVs_motifcount.bed'\n",
    "#genomes_pth = '/home/kal/TF_models/data/SNVs/1000genomes_SNVs/1000genomes_motif_SNVs.bed'\n",
    "snvs = pd.read_table(genomes_path)\n",
    "snvs.columns = 'chr position end variantID refAllele A C T G motifCount'.split()\n",
    "ctcf_snvs = snvs[snvs.variantID.apply(lambda x: 'CTCF' in x)].copy()\n",
    "\n",
    "# change the 1000 genomes data to be the same format\n",
    "order = {'A':0, 'C':1, 'G':2, 'T':3}\n",
    "rorder = ['A', 'C', 'G', 'T']\n",
    "for index, row in ctcf_snvs.iterrows():\n",
    "    counts = [row['A'], row['C'], row['G'], row['T']]\n",
    "    refCount = counts[order[row['refAllele']]]\n",
    "    counts[order[row['refAllele']]] = 0\n",
    "    altCount = max(counts)\n",
    "    altAllele = rorder[counts.index(altCount)]\n",
    "    # set this in the snvs\n",
    "    ctcf_snvs.set_value(index, 'refCount', refCount)\n",
    "    ctcf_snvs.set_value(index, 'altCount', altCount)\n",
    "    ctcf_snvs.set_value(index, 'altAllele', altAllele)\n",
    "    \n",
    "# filter the snvs for high read counts\n",
    "print(len(ctcf_snvs))\n",
    "ctcf_snvs = ctcf_snvs[ctcf_snvs['refCount'] + ctcf_snvs['altCount'] > 10]\n",
    "#ctcf_snvs = ctcf_snvs[abs(ctcf_snvs['refCount'] - ctcf_snvs['altCount']) > 30]\n",
    "plt.hexbin(ctcf_snvs.refCount, ctcf_snvs.altCount, bins='log')\n",
    "plt.show()\n",
    "print(len(ctcf_snvs))"
   ]
  },
  {
   "cell_type": "code",
   "execution_count": null,
   "metadata": {
    "collapsed": false,
    "deletable": true,
    "editable": true
   },
   "outputs": [],
   "source": [
    "# get predicitons\n",
    "prefpreds, paltpreds = pwm.predict_snv(ctcf_snvs, genome)\n",
    "#filter for strong motifs\n",
    "ctcf_snvs = ctcf_snvs[[(pref > 1250) or (palt > 1250) for pref, palt in zip(prefpreds, paltpreds)]]\n",
    "refpreds, altpreds = ml.predict_snv(ctcf_snvs, genome)\n",
    "prefpreds, paltpreds = pwm.predict_snv(ctcf_snvs, genome)\n",
    "print(len(ctcf_snvs))"
   ]
  },
  {
   "cell_type": "code",
   "execution_count": null,
   "metadata": {
    "collapsed": false,
    "deletable": true,
    "editable": true
   },
   "outputs": [],
   "source": [
    "# get differences\n",
    "allelic_ratio = [int(alt)/(int(alt) + int(ref)) for alt, ref in zip(ctcf_snvs.altCount, ctcf_snvs.refCount)]\n",
    "diffs = altpreds - refpreds\n",
    "pdiffs = paltpreds - prefpreds\n",
    "ratios = [alt/(ref+alt) for ref, alt in zip(refpreds, altpreds)]\n",
    "pratios = [alt/(ref+alt) for ref, alt in zip(prefpreds, paltpreds)]"
   ]
  },
  {
   "cell_type": "code",
   "execution_count": null,
   "metadata": {
    "collapsed": false,
    "deletable": true,
    "editable": true
   },
   "outputs": [],
   "source": [
    "plt.hexbin(allelic_ratio, pratios, gridsize=50, bins='log', cmap='plasma', extent=(-.01, 1.01, -.01, 1.01))\n",
    "plt.title('Single Nucleotide Varients in CTCF')\n",
    "plt.xlabel('Ratio Alternate/Total Reads')\n",
    "plt.ylabel('Difference in Postion Weight Matrix Score')\n",
    "plt.show()\n",
    "\n",
    "plt.hexbin(allelic_ratio, ratios, gridsize=50, bins='log', cmap='plasma', extent=(-.01, 1.01, -.01, 1.01))\n",
    "plt.title('Single Nucleotide Varients in CTCF')\n",
    "plt.xlabel('Ratio Alternate/Total Reads')\n",
    "plt.ylabel('Difference in Deep Learning Model Score')\n",
    "plt.show()\n",
    "\n",
    "plt.hexbin(pdiffs, diffs, gridsize=50, bins='log', cmap='plasma', extent=(-1000, 1000, -1000, 1000))\n",
    "plt.title('Single Nucleotide Varients in CTCF')\n",
    "plt.xlabel('Difference in Postion Weight Matrix Score')\n",
    "plt.ylabel('Difference in Deep Learning Model Score')\n",
    "plt.show()"
   ]
  },
  {
   "cell_type": "code",
   "execution_count": null,
   "metadata": {
    "collapsed": false
   },
   "outputs": [],
   "source": [
    "mystery_idx = sum(allelic_ratio == 0.07407407407407407)\n",
    "print(mystery_idx)\n",
    "mystery_row = ctcf_snvs.iloc[mystery_idx]\n",
    "print(mystery_row)\n",
    "seq = genome[mystery_row.chr][-128+mystery_row.position:128+mystery_row.position]\n",
    "alt_seq = seq[:128] + mystery_row.altAllele.lower()+ seq[129:]\n",
    "alt = sequence.Sequence(alt_seq)\n",
    "#ml.get_importance(seq, viz=True)\n",
    "ml.get_importance(alt, viz=True)"
   ]
  },
  {
   "cell_type": "code",
   "execution_count": null,
   "metadata": {
    "collapsed": false,
    "deletable": true,
    "editable": true
   },
   "outputs": [],
   "source": [
    "# annotate the thouis dataset\n",
    "thouis_path = '/home/kal/TF_models/data/snvs/all_snvs_merged.bed'\n",
    "snvs = pd.read_table(thouis_path)\n",
    "snvs.columns = 'chr start end refAllele altAllele refCount altCount'.split()\n",
    "snvs['position'] = snvs.start - 1\n",
    "\n",
    "# filter the snvs for only legal chrs\n",
    "snvs = snvs[snvs['chr']!='contig']\n",
    "snvs['position'] = [int(position) for position in snvs.position]\n",
    "snvs = snvs[snvs['refAllele'].isin(['A', 'C', 'T', 'G'])]\n",
    "snvs = snvs[snvs['altAllele'].isin(['A', 'C', 'T', 'G'])]\n",
    "\n",
    "# filter the snvs for high read counts\n",
    "snvs = snvs[snvs['refCount'] + snvs['altCount'] > 10]\n",
    "snvs = snvs[(snvs['refCount'] > 1) & (snvs['altCount'] > 1)]\n",
    "plt.hexbin(snvs.refCount, snvs.altCount, bins='log')\n",
    "plt.show()"
   ]
  },
  {
   "cell_type": "code",
   "execution_count": null,
   "metadata": {
    "collapsed": false,
    "deletable": true,
    "editable": true
   },
   "outputs": [],
   "source": [
    "# get predicitons\n",
    "all_refpreds, all_altpreds = ml.predict_snv(snvs, genome)\n",
    "all_prefpreds, all_paltpreds = pwm.predict_snv(snvs, genome)"
   ]
  },
  {
   "cell_type": "code",
   "execution_count": null,
   "metadata": {
    "collapsed": false,
    "deletable": true,
    "editable": true
   },
   "outputs": [],
   "source": [
    "# get differences\n",
    "allelic_ratio = [int(alt)/(int(alt) + int(ref)) for alt, ref in zip(snvs.altCount, snvs.refCount)]\n",
    "diffs = all_altpreds - all_refpreds\n",
    "pdiffs = all_paltpreds - all_prefpreds\n",
    "ratios = [alt/(ref+alt) for ref, alt in zip(all_refpreds, all_altpreds)]\n",
    "pratios = [alt/(ref+alt) for ref, alt in zip(all_prefpreds, all_paltpreds)]"
   ]
  },
  {
   "cell_type": "code",
   "execution_count": null,
   "metadata": {
    "collapsed": false,
    "deletable": true,
    "editable": true
   },
   "outputs": [],
   "source": [
    "plt.hexbin(allelic_ratio, pratios, gridsize=50, bins='log', cmap='plasma', extent=(-.01, 1.01,-.01, 1.01))\n",
    "plt.title('Single Nucleotide Varients in CTCF')\n",
    "plt.xlabel('Ratio Alternate/Total Reads')\n",
    "plt.ylabel('Difference in Postion Weight Matrix Score')\n",
    "plt.show()\n",
    "\n",
    "plt.hexbin(allelic_ratio, ratios, gridsize=50, bins='log', cmap='plasma', extent=(-.01, 1.01, -.01, 1.01))\n",
    "plt.title('Single Nucleotide Varients in CTCF')\n",
    "plt.xlabel('Ratio Alternate/Total Reads')\n",
    "plt.ylabel('Difference in Deep Learning Model Score')\n",
    "plt.show()\n",
    "\n",
    "plt.hexbin(pdiffs, diffs, gridsize=50, bins='log', cmap='plasma', extent=(-1000, 1000, -1000, 1000))\n",
    "plt.title('Single Nucleotide Varients in CTCF')\n",
    "plt.xlabel('Difference in Postion Weight Matrix Score')\n",
    "plt.ylabel('Difference in Deep Learning Model Score')\n",
    "plt.show()"
   ]
  },
  {
   "cell_type": "code",
   "execution_count": null,
   "metadata": {
    "collapsed": false,
    "deletable": true,
    "editable": true
   },
   "outputs": [],
   "source": [
    "# get only strong pwm signals\n",
    "strong_filter = [((pref > 1500) or (palt > 1500)) for pref, palt in zip(all_prefpreds, all_paltpreds)]\n",
    "refpreds = all_refpreds[strong_filter]\n",
    "altpreds = all_altpreds[strong_filter]\n",
    "prefpreds = all_prefpreds[strong_filter]\n",
    "paltpreds = all_paltpreds[strong_filter]\n",
    "\n",
    "# get differences\n",
    "allelic_ratio = [int(alt)/(int(alt) + int(ref)) for alt, ref in zip(snvs.altCount[strong_filter], snvs.refCount[strong_filter])]\n",
    "diffs = altpreds - refpreds\n",
    "pdiffs = paltpreds - prefpreds\n",
    "ratios = [alt/(ref+alt) for ref, alt in zip(refpreds, altpreds)]\n",
    "pratios = [alt/(ref+alt) for ref, alt in zip(prefpreds, paltpreds)]\n",
    "\n",
    "plt.hexbin(allelic_ratio, pratios, gridsize=50, bins='log', cmap='plasma', extent=(-.01, 1.01, .2, .8))\n",
    "plt.title('Single Nucleotide Varients in CTCF')\n",
    "plt.xlabel('Ratio Alternate/Total Reads')\n",
    "plt.ylabel('Difference in Postion Weight Matrix Score')\n",
    "plt.show()\n",
    "\n",
    "plt.hexbin(allelic_ratio, ratios, gridsize=50, bins='log', cmap='plasma', extent=(-.01, 1.01, .2, .8))\n",
    "plt.title('Single Nucleotide Varients in CTCF')\n",
    "plt.xlabel('Ratio Alternate/Total Reads')\n",
    "plt.ylabel('Difference in Deep Learning Model Score')\n",
    "plt.show()\n",
    "\n",
    "plt.hexbin(pdiffs, diffs, gridsize=50, bins='log', cmap='plasma', extent=(-1000, 1000, -1000, 1000))\n",
    "plt.title('Single Nucleotide Varients in CTCF')\n",
    "plt.xlabel('Difference in Postion Weight Matrix Score')\n",
    "plt.ylabel('Difference in Deep Learning Model Score')\n",
    "plt.show()"
   ]
  },
  {
   "cell_type": "code",
   "execution_count": null,
   "metadata": {
    "collapsed": false,
    "deletable": true,
    "editable": true
   },
   "outputs": [],
   "source": [
    "# get only strong machine learning signals\n",
    "strong_filter = [((ref > 900) or (alt > 900)) and (abs(alt-ref) > 1) for ref, alt in zip(all_refpreds, all_altpreds)]\n",
    "refpreds = all_refpreds[strong_filter]\n",
    "altpreds = all_altpreds[strong_filter]\n",
    "prefpreds = all_prefpreds[strong_filter]\n",
    "paltpreds = all_paltpreds[strong_filter]\n",
    "\n",
    "# get differences\n",
    "allelic_ratio = [int(alt)/(int(alt) + int(ref)) for alt, ref in zip(snvs.altCount[strong_filter], snvs.refCount[strong_filter])]\n",
    "diffs = altpreds - refpreds\n",
    "pdiffs = paltpreds - prefpreds\n",
    "ratios = [alt/(ref+alt) for ref, alt in zip(refpreds, altpreds)]\n",
    "pratios = [alt/(ref+alt) for ref, alt in zip(prefpreds, paltpreds)]\n",
    "\n",
    "plt.hexbin(allelic_ratio, pratios, gridsize=50, bins='log', cmap='plasma', extent=(-.01, 1.01, .2, .8))\n",
    "plt.title('Single Nucleotide Varients in CTCF')\n",
    "plt.xlabel('Ratio Alternate/Total Reads')\n",
    "plt.ylabel('Difference in Postion Weight Matrix Score')\n",
    "plt.show()\n",
    "\n",
    "plt.hexbin(allelic_ratio, ratios, gridsize=50, bins='log', cmap='plasma', extent=(-.01, 1.01, .2, .8))\n",
    "plt.title('Single Nucleotide Varients in CTCF')\n",
    "plt.xlabel('Ratio Alternate/Total Reads')\n",
    "plt.ylabel('Difference in Deep Learning Model Score')\n",
    "plt.show()\n",
    "\n",
    "plt.hexbin(pdiffs, diffs, gridsize=50, bins='log', cmap='plasma', extent=(-1000, 1000, -1000, 1000))\n",
    "plt.title('Single Nucleotide Varients in CTCF')\n",
    "plt.xlabel('Difference in Postion Weight Matrix Score')\n",
    "plt.ylabel('Difference in Deep Learning Model Score')\n",
    "plt.show()"
   ]
  },
  {
   "cell_type": "code",
   "execution_count": null,
   "metadata": {
    "collapsed": false,
    "deletable": true,
    "editable": true,
    "scrolled": true
   },
   "outputs": [],
   "source": [
    "# plot some of the sequences the ml algorithm gets but the ml doesnt\n",
    "strong_filter = [(abs(ml-.5) > .2) and (abs(pwm-.5)< .2) and ((ml<.5) == (alelle<.5)) for ml, pwm, allele in zip(ratios, pratios, allelic_ratio)]\n",
    "intrigue = "
   ]
  },
  {
   "cell_type": "code",
   "execution_count": null,
   "metadata": {
    "collapsed": true,
    "deletable": true,
    "editable": true
   },
   "outputs": [],
   "source": []
  }
 ],
 "metadata": {
  "kernelspec": {
   "display_name": "Python 3",
   "language": "python",
   "name": "python3"
  },
  "language_info": {
   "codemirror_mode": {
    "name": "ipython",
    "version": 3
   },
   "file_extension": ".py",
   "mimetype": "text/x-python",
   "name": "python",
   "nbconvert_exporter": "python",
   "pygments_lexer": "ipython3",
   "version": "3.5.2"
  }
 },
 "nbformat": 4,
 "nbformat_minor": 2
}
