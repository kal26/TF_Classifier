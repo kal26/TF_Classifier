{
 "cells": [
  {
   "cell_type": "raw",
   "metadata": {
    "deletable": true,
    "editable": true
   },
   "source": [
    "Compare some set of models to each other and to a pwm"
   ]
  },
  {
   "cell_type": "code",
   "execution_count": 11,
   "metadata": {
    "collapsed": false,
    "deletable": true,
    "editable": true
   },
   "outputs": [],
   "source": [
    "import os\n",
    "import sys\n",
    "sys.path.append('/home/kal/TF_models/bin/')\n",
    "os.environ['CUDA_VISIBLE_DEVICES'] = '1' # Must be before importing keras!\n",
    "\n",
    "import tf_memory_limit\n",
    "from keras.models import load_model \n",
    "import tensorflow as tf\n",
    "\n",
    "import numpy as np\n",
    "import matplotlib.pylab as plt \n",
    "from sklearn.metrics import precision_recall_curve\n",
    "from tqdm import tqdm\n",
    "import ucscgenome\n",
    "import math\n",
    "from sklearn.metrics import precision_recall_curve\n",
    "from scipy.integrate import trapz\n",
    "\n",
    "import bisect\n",
    "import pandas as pd\n",
    "\n",
    "import sequence\n",
    "import train_TFmodel\n",
    "import eval_TFmodel\n",
    "import ctcfgen\n",
    "import seq_only_gen"
   ]
  },
  {
   "cell_type": "code",
   "execution_count": 2,
   "metadata": {
    "collapsed": false,
    "deletable": true,
    "editable": true
   },
   "outputs": [
    {
     "name": "stdout",
     "output_type": "stream",
     "text": [
      "Loading model without Bias layer\n"
     ]
    }
   ],
   "source": [
    "# which models should be used?\n",
    "# pass a dictionary of paths and identifiers\n",
    "model_paths = {'classifier':'/home/kal/TF_models/seq_only/seq_classifier/20170919_sigmoid_model/', 'regression':'/home/kal/TF_models/seq_only/score_regression/20170920_regression_model/'}\n",
    "#include the pwm\n",
    "model_paths['pwm'] = '/home/kal/TF_models/seq_only/seq_classifier/pwm_frozen/'\n",
    "\n",
    "#load in models\n",
    "models = dict()\n",
    "for key, path in model_paths.items():\n",
    "    models[key] = eval_TFmodel.TFmodel(path)"
   ]
  },
  {
   "cell_type": "code",
   "execution_count": 3,
   "metadata": {
    "collapsed": false,
    "deletable": true,
    "editable": true
   },
   "outputs": [],
   "source": [
    "# get the generator\n",
    "gen = seq_only_gen.TFGenerator('/home/kal/TF_models/seq_only/ctcfgen.hdf5')\n",
    "g = gen.pair_gen(mode='val')"
   ]
  },
  {
   "cell_type": "code",
   "execution_count": null,
   "metadata": {
    "collapsed": false,
    "deletable": true,
    "editable": true
   },
   "outputs": [],
   "source": [
    "# predict on test sequences and make a p-r and p-r gain curve\n",
    "counts = list()\n",
    "preds = dict()\n",
    "sequence_list = list()\n",
    "\n",
    "#set up prediciton lists\n",
    "for key, model in models.items():    \n",
    "    preds[key]= list()\n",
    "\n",
    "#populate prediciton lists\n",
    "for i in tqdm(range(len(gen.val_pos))):\n",
    "    batch, labels = next(g)\n",
    "    counts.append(labels)\n",
    "    for key, model in models.items():    \n",
    "        preds[key].append(model.get_act([batch, 1]))\n",
    "    sequence_list.append(batch)\n",
    "    \n",
    "#flatten prediciton lists\n",
    "for key, pred_list in preds.items():    \n",
    "    preds[key] = np.asarray(preds[key]).flatten().tolist()"
   ]
  },
  {
   "cell_type": "code",
   "execution_count": 8,
   "metadata": {
    "collapsed": true,
    "deletable": true,
    "editable": true
   },
   "outputs": [],
   "source": [
    "def pr_aoc(precision, recall):\n",
    "    pos_p, pos_r = get_pos(precision, recall, 0, 1)\n",
    "    #extrapolate a point for recall zero\n",
    "    if len(pos_p)>0:\n",
    "        pos_r = np.append(pos_r, 0)\n",
    "        pos_p = np.append(pos_p, pos_p[-1])    \n",
    "    return -trapz(pos_p, pos_r)\n",
    "    \n",
    "def get_pos(listy, listz, min_value, max_value):\n",
    "    try:\n",
    "        newy=list()\n",
    "        newz=list()\n",
    "        for y, z in zip(listy, listz):\n",
    "            if min([y, z]) > min_value and max([y, z]) < max_value:\n",
    "                newy.append(y)\n",
    "                newz.append(z)\n",
    "        return newy, newz \n",
    "    except ValueError:\n",
    "        print('The sequence was empty')\n",
    "        return [], [] \n",
    "    \n",
    "def get_between(r, p):\n",
    "        \"\"\"listy=r, listz=p\"\"\"\n",
    "        start_index = np.argmax([(rv<1) and (pv>0) for rv, pv in zip(r, p)])\n",
    "        stop_index = np.argmax([(pv>=1) or (rv<=0) for rv, pv in zip(r, p)])\n",
    "        return start_index, stop_index\n",
    "def get_gain(p, r, prop_pos):\n",
    "    start_index, stop_index = get_between(r, p) \n",
    "    pgain = [(x-prop_pos)/((1-prop_pos)*x) for x in p[start_index:stop_index]]\n",
    "    rgain = [(x-prop_pos)/((1-prop_pos)*x) for x in r[start_index:stop_index]]\n",
    "    return pgain, rgain"
   ]
  },
  {
   "cell_type": "code",
   "execution_count": null,
   "metadata": {
    "collapsed": false,
    "deletable": true,
    "editable": true,
    "scrolled": true
   },
   "outputs": [],
   "source": [
    "#make a lables list\n",
    "labels = [c>0 for c in counts]\n",
    "prop_pos = sum(labels)/len(labels)\n",
    "\n",
    "#make an aoc dict\n",
    "aocs=dict()\n",
    "\n",
    "#make a pr plot\n",
    "f, (ax1, ax2) = plt.subplots(1, 2, figsize=(6, 12))\n",
    "ax1.set_ylim([0.0, 1.05])\n",
    "ax2.set_ylim([0.0, 1.05])\n",
    "ax1.set_xlim([0.0, 1.0])\n",
    "ax2.set_xlim([0.0, 1.0])\n",
    "f.title('P-R Gain Curve for CTCF Predictions on Holdout Set')\n",
    "plt.suptitle('P-R Gain Curve for K562 Acessible Regions')\n",
    "ax2.set_xlabel('Recall Gain')\n",
    "ax2.set_ylabel('Precision Gain')\n",
    "ax2.set_xlabel('Recall Gain')\n",
    "ax2.set_ylabel('Precision Gain')\n",
    "\n",
    "#graph on the plots\n",
    "for key, pred_list in preds.items():    \n",
    "    #get pr\n",
    "    p, r, t = precision_recall_curve(counts, pred_list, pos_label=1)\n",
    "    # get pr gain\n",
    "    # mask out negative values and caluculate\n",
    "    rindex, pindex = get_between(r, p)  \n",
    "    pgain = [(x-prop_pos)/((1-prop_pos)*x) for x in p[rindex:pindex]]\n",
    "    rgain = [(x-prop_pos)/((1-prop_pos)*x) for x in r[rindex:pindex]]\n",
    "    # get aocs\n",
    "    aocs[key]=pr_aoc(p, r)\n",
    "    aocs[key+'_gain'] = pr_aoc(pgain,rgain)\n",
    "    ax1.plot(r, p, label=key)\n",
    "    ax2.plot(rgain, pgain, label= key +' gain')\n",
    "        \n",
    "plt.legend()\n",
    "plt.show()\n"
   ]
  },
  {
   "cell_type": "code",
   "execution_count": null,
   "metadata": {
    "collapsed": true
   },
   "outputs": [],
   "source": [
    "# plot\n",
    "plt.title('Distance-grouped prediction strength')\n",
    "plt.xlabel('Distance from motif to mutation')\n",
    "plt.ylabel('Predictive Power (AOPR-Gain Curve)')\n",
    "plt.plot(128-mids, aoc, linestyle='-', marker='.', label='ML')\n",
    "plt.plot(128-mids, pwm_aoc, linestyle='-', marker='.', label='PWM')\n",
    "plt.legend()\n",
    "plt.show()"
   ]
  },
  {
   "cell_type": "code",
   "execution_count": 4,
   "metadata": {
    "collapsed": false,
    "deletable": true,
    "editable": true
   },
   "outputs": [
    {
     "name": "stderr",
     "output_type": "stream",
     "text": [
      "1000it [00:12, 81.19it/s]\n",
      "1000it [00:07, 136.99it/s]\n",
      "1000it [00:06, 145.59it/s]\n"
     ]
    }
   ],
   "source": [
    "# predict on all atac sequences from k562 and make a p-r and p-r gain curve\n",
    "bed_path = '/home/kal/TF_models/data/K562_atac_peaks/final_atac.bed'\n",
    "peaks = pd.read_table(bed_path, header=None)\n",
    "peaks.columns = 'chr start end ctcf_label . . '.split()\n",
    "peaks = peaks[peaks['chr']!='chrM']\n",
    "\n",
    "peaks = peaks.sample(1000)\n",
    "\n",
    "# do the predictions\n",
    "preds = dict()\n",
    "#populate prediciton lists\n",
    "for key, model in models.items():    \n",
    "    preds[key] = model.predict_bed(peaks)"
   ]
  },
  {
   "cell_type": "code",
   "execution_count": 10,
   "metadata": {
    "collapsed": false
   },
   "outputs": [
    {
     "ename": "NameError",
     "evalue": "name 'trapz' is not defined",
     "output_type": "error",
     "traceback": [
      "\u001b[0;31m---------------------------------------------------------------------------\u001b[0m",
      "\u001b[0;31mNameError\u001b[0m                                 Traceback (most recent call last)",
      "\u001b[0;32m<ipython-input-10-a33e153b7556>\u001b[0m in \u001b[0;36m<module>\u001b[0;34m()\u001b[0m\n\u001b[1;32m     26\u001b[0m     \u001b[0mrgain\u001b[0m \u001b[0;34m=\u001b[0m \u001b[0;34m[\u001b[0m\u001b[0;34m(\u001b[0m\u001b[0mx\u001b[0m\u001b[0;34m-\u001b[0m\u001b[0mprop_pos\u001b[0m\u001b[0;34m)\u001b[0m\u001b[0;34m/\u001b[0m\u001b[0;34m(\u001b[0m\u001b[0;34m(\u001b[0m\u001b[0;36m1\u001b[0m\u001b[0;34m-\u001b[0m\u001b[0mprop_pos\u001b[0m\u001b[0;34m)\u001b[0m\u001b[0;34m*\u001b[0m\u001b[0mx\u001b[0m\u001b[0;34m)\u001b[0m \u001b[0;32mfor\u001b[0m \u001b[0mx\u001b[0m \u001b[0;32min\u001b[0m \u001b[0mr\u001b[0m\u001b[0;34m[\u001b[0m\u001b[0mrindex\u001b[0m\u001b[0;34m:\u001b[0m\u001b[0mpindex\u001b[0m\u001b[0;34m]\u001b[0m\u001b[0;34m]\u001b[0m\u001b[0;34m\u001b[0m\u001b[0m\n\u001b[1;32m     27\u001b[0m     \u001b[0;31m# get aocs\u001b[0m\u001b[0;34m\u001b[0m\u001b[0;34m\u001b[0m\u001b[0m\n\u001b[0;32m---> 28\u001b[0;31m     \u001b[0maocs\u001b[0m\u001b[0;34m[\u001b[0m\u001b[0mkey\u001b[0m\u001b[0;34m]\u001b[0m\u001b[0;34m=\u001b[0m\u001b[0mpr_aoc\u001b[0m\u001b[0;34m(\u001b[0m\u001b[0mp\u001b[0m\u001b[0;34m,\u001b[0m \u001b[0mr\u001b[0m\u001b[0;34m)\u001b[0m\u001b[0;34m\u001b[0m\u001b[0m\n\u001b[0m\u001b[1;32m     29\u001b[0m     \u001b[0maocs\u001b[0m\u001b[0;34m[\u001b[0m\u001b[0mkey\u001b[0m\u001b[0;34m+\u001b[0m\u001b[0;34m'_gain'\u001b[0m\u001b[0;34m]\u001b[0m \u001b[0;34m=\u001b[0m \u001b[0mpr_aoc\u001b[0m\u001b[0;34m(\u001b[0m\u001b[0mpgain\u001b[0m\u001b[0;34m,\u001b[0m\u001b[0mrgain\u001b[0m\u001b[0;34m)\u001b[0m\u001b[0;34m\u001b[0m\u001b[0m\n\u001b[1;32m     30\u001b[0m     \u001b[0max1\u001b[0m\u001b[0;34m.\u001b[0m\u001b[0mplot\u001b[0m\u001b[0;34m(\u001b[0m\u001b[0mr\u001b[0m\u001b[0;34m,\u001b[0m \u001b[0mp\u001b[0m\u001b[0;34m,\u001b[0m \u001b[0mlabel\u001b[0m\u001b[0;34m=\u001b[0m\u001b[0mkey\u001b[0m\u001b[0;34m)\u001b[0m\u001b[0;34m\u001b[0m\u001b[0m\n",
      "\u001b[0;32m<ipython-input-8-b2b8b771ddaa>\u001b[0m in \u001b[0;36mpr_aoc\u001b[0;34m(precision, recall)\u001b[0m\n\u001b[1;32m      5\u001b[0m         \u001b[0mpos_r\u001b[0m \u001b[0;34m=\u001b[0m \u001b[0mnp\u001b[0m\u001b[0;34m.\u001b[0m\u001b[0mappend\u001b[0m\u001b[0;34m(\u001b[0m\u001b[0mpos_r\u001b[0m\u001b[0;34m,\u001b[0m \u001b[0;36m0\u001b[0m\u001b[0;34m)\u001b[0m\u001b[0;34m\u001b[0m\u001b[0m\n\u001b[1;32m      6\u001b[0m         \u001b[0mpos_p\u001b[0m \u001b[0;34m=\u001b[0m \u001b[0mnp\u001b[0m\u001b[0;34m.\u001b[0m\u001b[0mappend\u001b[0m\u001b[0;34m(\u001b[0m\u001b[0mpos_p\u001b[0m\u001b[0;34m,\u001b[0m \u001b[0mpos_p\u001b[0m\u001b[0;34m[\u001b[0m\u001b[0;34m-\u001b[0m\u001b[0;36m1\u001b[0m\u001b[0;34m]\u001b[0m\u001b[0;34m)\u001b[0m\u001b[0;34m\u001b[0m\u001b[0m\n\u001b[0;32m----> 7\u001b[0;31m     \u001b[0;32mreturn\u001b[0m \u001b[0;34m-\u001b[0m\u001b[0mtrapz\u001b[0m\u001b[0;34m(\u001b[0m\u001b[0mpos_p\u001b[0m\u001b[0;34m,\u001b[0m \u001b[0mpos_r\u001b[0m\u001b[0;34m)\u001b[0m\u001b[0;34m\u001b[0m\u001b[0m\n\u001b[0m\u001b[1;32m      8\u001b[0m \u001b[0;34m\u001b[0m\u001b[0m\n\u001b[1;32m      9\u001b[0m \u001b[0;32mdef\u001b[0m \u001b[0mget_pos\u001b[0m\u001b[0;34m(\u001b[0m\u001b[0mlisty\u001b[0m\u001b[0;34m,\u001b[0m \u001b[0mlistz\u001b[0m\u001b[0;34m,\u001b[0m \u001b[0mmin_value\u001b[0m\u001b[0;34m,\u001b[0m \u001b[0mmax_value\u001b[0m\u001b[0;34m)\u001b[0m\u001b[0;34m:\u001b[0m\u001b[0;34m\u001b[0m\u001b[0m\n",
      "\u001b[0;31mNameError\u001b[0m: name 'trapz' is not defined"
     ]
    }
   ],
   "source": [
    "#make an aoc dict\n",
    "aocs=dict()\n",
    "\n",
    "#make a pr plot\n",
    "prop_pos = sum(peaks['ctcf_label'])/len(peaks['ctcf_label'])\n",
    "\n",
    "f, (ax1, ax2) = plt.subplots(1,2, figsize=(6, 12))\n",
    "ax1.set_ylim([0.0, 1.05])\n",
    "ax2.set_ylim([0.0, 1.05])\n",
    "ax1.set_xlim([0.0, 1.0])\n",
    "ax2.set_xlim([0.0, 1.0])\n",
    "plt.suptitle('P-R Gain Curve for K562 Acessible Regions')\n",
    "ax2.set_xlabel('Recall Gain')\n",
    "ax2.set_ylabel('Precision Gain')\n",
    "ax2.set_xlabel('Recall Gain')\n",
    "ax2.set_ylabel('Precision Gain')\n",
    "\n",
    "#graph on the plots\n",
    "for key, pred_list in preds.items():    \n",
    "    #get pr\n",
    "    p, r, t = precision_recall_curve(peaks['ctcf_label'], pred_list, pos_label=1)\n",
    "    # get pr gain\n",
    "    # mask out negative values and caluculate\n",
    "    rindex, pindex = get_between(r, p)  \n",
    "    pgain = [(x-prop_pos)/((1-prop_pos)*x) for x in p[rindex:pindex]]\n",
    "    rgain = [(x-prop_pos)/((1-prop_pos)*x) for x in r[rindex:pindex]]\n",
    "    # get aocs\n",
    "    aocs[key]=pr_aoc(p, r)\n",
    "    aocs[key+'_gain'] = pr_aoc(pgain,rgain)\n",
    "    ax1.plot(r, p, label=key)\n",
    "    ax2.plot(rgain, pgain, label= key +' gain')\n",
    "        \n",
    "plt.legend()\n",
    "plt.show()"
   ]
  },
  {
   "cell_type": "code",
   "execution_count": null,
   "metadata": {
    "collapsed": false,
    "deletable": true,
    "editable": true
   },
   "outputs": [],
   "source": [
    "# make the heatmap of lore\n",
    "plt.figure(figsize=(8,6))\n",
    "plt.hexbin(pwm_preds, reg_preds, bins='log', cmap='plasma', gridsize=80)\n",
    "plt.xlabel('Position Weight Matrix Score Predictions')\n",
    "plt.ylabel('Regression Model Score Prediction')\n",
    "plt.title('DL vs PWM Predictions for CTCF Binding in Encode CTCF peaks')\n",
    "plt.show()\n",
    "\n",
    "# make the heatmap of lore\n",
    "plt.figure(figsize=(8,6))\n",
    "plt.hexbin(pwm_preds, sig_preds, bins='log', cmap='plasma', gridsize=80)\n",
    "plt.xlabel('Position Weight Matrix Score Predictions')\n",
    "plt.ylabel('Classification Model Score Prediction')\n",
    "plt.title('DL vs PWM Predictions for CTCF Binding in Encode CTCF peaks')\n",
    "plt.show()"
   ]
  },
  {
   "cell_type": "code",
   "execution_count": null,
   "metadata": {
    "collapsed": false,
    "deletable": true,
    "editable": true
   },
   "outputs": [],
   "source": [
    "# get the forth quadrant seqs\n",
    "# get 4th quadrant seqs\n",
    "intrigue = peaks[(peaks['pwm'] < 300)]\n",
    "intrigue= intrigue[(intrigue['sig_ml'] > 7)]\n",
    "intrigue = intrigue[(100*intrigue['sig_ml'] - intrigue['pwm'] > 100)]\n",
    "#intrigue = intrigue.sample(200)\n",
    "print(intrigue.shape)\n",
    "\n",
    "plt.figure(figsize=(8,6))\n",
    "plt.hexbin(intrigue['pwm'].tolist(), intrigue['sig_ml'].tolist(), bins='log', cmap='plasma', gridsize=50)\n",
    "plt.xlabel('Position Weight Matrix Score Predictions')\n",
    "plt.ylabel('Regression Model Score Prediction')\n",
    "plt.title('DL vs PWM Predictions CTCF binding in K562 ATAC Regions')\n",
    "plt.show()"
   ]
  },
  {
   "cell_type": "code",
   "execution_count": null,
   "metadata": {
    "collapsed": false,
    "deletable": true,
    "editable": true
   },
   "outputs": [],
   "source": [
    "# write out the intereseting sequences in fasta format for further analysis\n",
    "genome = ucscgenome.Genome('/home/kal/.ucscgenome/hg19.2bit')\n",
    "for index, row in intrigue.iterrows():   \n",
    "    print('>'+ str(row.name) + '|' + str(row['sig_ml']) + '-' + str(row['pwm']))\n",
    "    print(sequence.encode_to_string(row.seq))"
   ]
  },
  {
   "cell_type": "code",
   "execution_count": null,
   "metadata": {
    "collapsed": false,
    "deletable": true,
    "editable": true
   },
   "outputs": [],
   "source": [
    "# predict on all atac sequences from k562 and make a p-r and p-r gain curve\n",
    "bed_path = '/home/kal/TF_models/data/K562_atac_peaks/final_atac.bed'\n",
    "peaks = pd.read_table(bed_path, header=None)\n",
    "peaks.columns = 'chr start end ctcf_label . . '.split()\n",
    "peaks = peaks[peaks['chr']!='chrM']\n",
    "print(len(peaks))"
   ]
  },
  {
   "cell_type": "code",
   "execution_count": null,
   "metadata": {
    "collapsed": false,
    "deletable": true,
    "editable": true,
    "scrolled": true
   },
   "outputs": [],
   "source": [
    "pwm_preds = pwm.predict_bed(peaks)\n",
    "peaks['pwm'] = pwm_preds\n",
    "reg_preds = reg.predict_bed(peaks)\n",
    "peaks['reg_ml'] = reg_preds\n",
    "sig_preds = sig.predict_bed(peaks)\n",
    "peaks['sig_ml'] = sig_preds\n",
    "true_labels = peaks['ctcf_label']"
   ]
  },
  {
   "cell_type": "code",
   "execution_count": null,
   "metadata": {
    "collapsed": true,
    "deletable": true,
    "editable": true
   },
   "outputs": [],
   "source": [
    "header = ['chr', 'start', 'end', 'ctcf_label', 'pwm', 'reg_ml', 'sig_ml']\n",
    "peaks.to_csv('/home/kal/TF_models/data/encode_ctcf_annotated.bed', sep='\\t', columns = header)"
   ]
  },
  {
   "cell_type": "code",
   "execution_count": null,
   "metadata": {
    "collapsed": false,
    "deletable": true,
    "editable": true
   },
   "outputs": [],
   "source": [
    "# load the model\n",
    "peaks = pd.read_table('/home/kal/TF_models/data/encode_ctcf_annotated.bed')\n",
    "columns = ['chr', 'start', 'end', 'ctcf_label', 'pwm', 'reg_ml', 'sig_ml']\n",
    "true_labels = peaks['ctcf_label']"
   ]
  },
  {
   "cell_type": "code",
   "execution_count": null,
   "metadata": {
    "collapsed": false,
    "deletable": true,
    "editable": true
   },
   "outputs": [],
   "source": [
    "#p-r curve\n",
    "sig_p, sig_r, sig_t = precision_recall_curve(peaks['ctcf_label'], peaks['sig_ml'], pos_label=1)\n",
    "pwm_p, pwm_r, pwm_t = precision_recall_curve(peaks['ctcf_label'], peaks['pwm'], pos_label=1)\n",
    "reg_p, reg_r, reg_t = precision_recall_curve(peaks['ctcf_label'], peaks['reg_ml'], pos_label=1)\n",
    "\n",
    "plt.figure(figsize=(8,6))\n",
    "plt.ylim([0.0, 1.05])\n",
    "plt.xlim([0.0, 1.0])\n",
    "plt.title('P-R Curve for CTCF Binding in K562 ATAC Regions')\n",
    "plt.xlabel('Recall')\n",
    "plt.ylabel('Precision')\n",
    "plt.plot(sig_r, sig_p, label='Classification Model')\n",
    "plt.plot(reg_r, reg_p, label='Regression Model')\n",
    "plt.plot(pwm_r, pwm_p, label='PWM Model')\n",
    "plt.legend()\n",
    "plt.show()"
   ]
  },
  {
   "cell_type": "code",
   "execution_count": null,
   "metadata": {
    "collapsed": false,
    "deletable": true,
    "editable": true
   },
   "outputs": [],
   "source": [
    "#p-r gain gurve\n",
    "# we consider only p/r value between prop_pos and 1\n",
    "prop_pos = sum(true_labels)/len(true_labels)\n",
    "\n",
    "sig_pgain = [(x-prop_pos)/((1-prop_pos)*x) for x in sig_p]\n",
    "sig_rgain = [(x-prop_pos)/((1-prop_pos)*x) for x in sig_r]\n",
    "reg_pgain = [(x-prop_pos)/((1-prop_pos)*x) for x in reg_p]\n",
    "reg_rgain = [(x-prop_pos)/((1-prop_pos)*x) for x in reg_r]\n",
    "pwm_pgain = [(x-prop_pos)/((1-prop_pos)*x) for x in pwm_p]\n",
    "pwm_rgain = [(x-prop_pos)/((1-prop_pos)*x) for x in pwm_r]\n",
    "\n",
    "plt.figure(figsize=(8,6))\n",
    "plt.ylim([0.0, 1.05])\n",
    "plt.xlim([0.0, 1.0])\n",
    "plt.title('P-R Gain Curve for CTCF Binding in K562 ATAC Regions')\n",
    "plt.xlabel('Recall Gain')\n",
    "plt.ylabel('Precision Gain')\n",
    "plt.plot(sig_pgain, sig_rgain, label='Classification Model')\n",
    "plt.plot(reg_rgain, reg_pgain, label='Regression Model')\n",
    "plt.plot(pwm_rgain, pwm_pgain, label='PWM Model')\n",
    "plt.legend()\n",
    "plt.show()"
   ]
  },
  {
   "cell_type": "code",
   "execution_count": null,
   "metadata": {
    "collapsed": false,
    "deletable": true,
    "editable": true
   },
   "outputs": [],
   "source": [
    "# make the heatmap of lore\n",
    "plt.figure(figsize=(8,6))\n",
    "plt.hexbin(peaks['pwm'], peaks['reg_ml'], bins='log', cmap='plasma', gridsize=100)\n",
    "plt.xlabel('Position Weight Matrix Score Predictions')\n",
    "plt.ylabel('Regression Model Score Prediction')\n",
    "plt.title('DL vs PWM Predictions CTCF binding in K562 ATAC Regions')\n",
    "plt.show()\n",
    "\n",
    "# make the heatmap of lore\n",
    "plt.figure(figsize=(8,6))\n",
    "plt.hexbin(peaks['pwm'], peaks['sig_ml'], bins='log', cmap='plasma', gridsize=100)\n",
    "plt.xlabel('Position Weight Matrix Score Predictions')\n",
    "plt.ylabel('Classification Model Score Prediction')\n",
    "plt.title('DL vs PWM Predictions CTCF binding in K562 ATAC Regions')\n",
    "plt.show()"
   ]
  },
  {
   "cell_type": "code",
   "execution_count": null,
   "metadata": {
    "collapsed": false,
    "deletable": true,
    "editable": true
   },
   "outputs": [],
   "source": [
    "# get 4th quadrant seqs\n",
    "intrigue= peaks[(peaks['ctcf_label'])]\n",
    "intrigue= intrigue[(intrigue['pwm'] < 1200)]\n",
    "intrigue= intrigue[(intrigue['reg_ml'] > 900)]\n",
    "print(intrigue.shape)\n",
    "\n",
    "plt.figure(figsize=(8,6))\n",
    "plt.hexbin(intrigue['pwm'].tolist(), intrigue['reg_ml'].tolist(), bins='log', cmap='plasma', gridsize=100)\n",
    "plt.xlabel('Position Weight Matrix Score Predictions')\n",
    "plt.ylabel('Regression Model Score Prediction')\n",
    "plt.title('DL vs PWM Predictions CTCF binding in K562 ATAC Regions')\n",
    "plt.show()"
   ]
  },
  {
   "cell_type": "code",
   "execution_count": null,
   "metadata": {
    "collapsed": false,
    "deletable": true,
    "editable": true
   },
   "outputs": [],
   "source": [
    "# write out the intereseting sequences in fasta format for further analysis\n",
    "genome = ucscgenome.Genome('/home/kal/.ucscgenome/hg19.2bit')\n",
    "with open('/home/kal/TF_models/data/K562_atac_peaks/2nd_quad_seqs.fa', 'w') as output:\n",
    "    output.write('>prediction_ml|predictions_pwm\\nsequence\\n')\n",
    "    for index, row in intrigue.iterrows():\n",
    "        seq = reg.localize(row, genome)[0]\n",
    "        output.write('>'+ str(row.name) + '|' + str(row['reg_ml']) + '-' + str(row['pwm']) + '\\n')\n",
    "        output.write(sequence.encode_to_string(seq.seq))\n",
    "\n",
    "        print('>'+ str(row.name) + '|' + str(row['reg_ml']) + '-' + str(row['pwm']))\n",
    "        print(sequence.encode_to_string(seq.seq))"
   ]
  },
  {
   "cell_type": "code",
   "execution_count": null,
   "metadata": {
    "collapsed": false,
    "deletable": true,
    "editable": true
   },
   "outputs": [],
   "source": [
    "# get some normal seqs\n",
    "intrigue = peaks[(peaks['ctcf_label'])]\n",
    "intrigue = intrigue[(intrigue['reg_ml'] < 800)]\n",
    "intrigue = intrigue[(intrigue['pwm'] > 1700)]\n",
    "print(intrigue.shape)\n",
    "intrigue = intrigue.sample(250)\n",
    "\n",
    "plt.figure(figsize=(8,6))\n",
    "plt.hexbin(intrigue['pwm'].tolist(), intrigue['reg_ml'].tolist(), bins='log', cmap='plasma', gridsize=100)\n",
    "plt.xlabel('Position Weight Matrix Score Predictions')\n",
    "plt.ylabel('Regression Model Score Prediction')\n",
    "plt.title('DL vs PWM Predictions CTCF binding in K562 ATAC Regions')\n",
    "plt.show()"
   ]
  },
  {
   "cell_type": "code",
   "execution_count": null,
   "metadata": {
    "collapsed": false,
    "deletable": true,
    "editable": true
   },
   "outputs": [],
   "source": [
    "# write out the intereseting sequences in fasta format for further analysis\n",
    "genome = ucscgenome.Genome('/home/kal/.ucscgenome/hg19.2bit')\n",
    "with open('/home/kal/TF_models/data/K562_atac_peaks/background_seqs.fa', 'w') as output:\n",
    "    output.write('>prediction_ml|predictions_pwm\\nsequence\\n')\n",
    "    for index, row in intrigue.iterrows():\n",
    "        seq = reg.localize(row, genome)[0]\n",
    "        output.write('>'+ str(row.name) + '|' + str(row['reg_ml']) + '-' + str(row['pwm']) + '\\n')\n",
    "        output.write(sequence.encode_to_string(seq.seq))\n",
    "\n",
    "        print('>'+ str(row.name) + '|' + str(row['reg_ml']) + '-' + str(row['pwm']))\n",
    "        print(sequence.encode_to_string(seq.seq))"
   ]
  },
  {
   "cell_type": "code",
   "execution_count": null,
   "metadata": {
    "collapsed": false,
    "deletable": true,
    "editable": true
   },
   "outputs": [],
   "source": [
    "plt.hist(peaks['reg_ml'], bins=100)\n",
    "plt.show()"
   ]
  },
  {
   "cell_type": "code",
   "execution_count": null,
   "metadata": {
    "collapsed": false,
    "deletable": true,
    "editable": true
   },
   "outputs": [],
   "source": [
    "bed_path = '/home/kal/TF_models/data/encode_chipseq_peaks.bed'\n",
    "gen_path = '/home/kal/TF_models/bin/test_gen.hdf5'\n",
    "TF='CTCF'\n",
    "seq_only_gen.create_from_bed(bed_path, gen_path, TF=TF, example_limit = 25000)        \n",
    "gen = seq_only_gen.TFGenerator(gen_path)"
   ]
  },
  {
   "cell_type": "code",
   "execution_count": null,
   "metadata": {
    "collapsed": false,
    "deletable": true,
    "editable": true
   },
   "outputs": [],
   "source": [
    "n = gen.neg_gen()\n",
    "print(next(n))"
   ]
  },
  {
   "cell_type": "code",
   "execution_count": null,
   "metadata": {
    "collapsed": true,
    "deletable": true,
    "editable": true
   },
   "outputs": [],
   "source": []
  },
  {
   "cell_type": "code",
   "execution_count": null,
   "metadata": {
    "collapsed": true,
    "deletable": true,
    "editable": true
   },
   "outputs": [],
   "source": []
  }
 ],
 "metadata": {
  "kernelspec": {
   "display_name": "Python 3",
   "language": "python",
   "name": "python3"
  },
  "language_info": {
   "codemirror_mode": {
    "name": "ipython",
    "version": 3
   },
   "file_extension": ".py",
   "mimetype": "text/x-python",
   "name": "python",
   "nbconvert_exporter": "python",
   "pygments_lexer": "ipython3",
   "version": "3.5.2"
  }
 },
 "nbformat": 4,
 "nbformat_minor": 2
}
